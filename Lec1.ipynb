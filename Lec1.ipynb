{
  "nbformat": 4,
  "nbformat_minor": 0,
  "metadata": {
    "colab": {
      "provenance": [],
      "collapsed_sections": [],
      "authorship_tag": "ABX9TyO5yStyx5lm2tVWfjubzP9L",
      "include_colab_link": true
    },
    "kernelspec": {
      "name": "python3",
      "display_name": "Python 3"
    },
    "language_info": {
      "name": "python"
    }
  },
  "cells": [
    {
      "cell_type": "markdown",
      "metadata": {
        "id": "view-in-github",
        "colab_type": "text"
      },
      "source": [
        "<a href=\"https://colab.research.google.com/github/Arpit0134/Python-for-Oil-Gas/blob/main/Lec1.ipynb\" target=\"_parent\"><img src=\"https://colab.research.google.com/assets/colab-badge.svg\" alt=\"Open In Colab\"/></a>"
      ]
    },
    {
      "cell_type": "code",
      "execution_count": null,
      "metadata": {
        "colab": {
          "base_uri": "https://localhost:8080/"
        },
        "id": "N8cfTJJPGEvc",
        "outputId": "be9d9e4d-4234-4b28-f063-6c0c65d4b1f2"
      },
      "outputs": [
        {
          "output_type": "stream",
          "name": "stdout",
          "text": [
            "Hello All\n"
          ]
        }
      ],
      "source": [
        "print('Hello All')"
      ]
    },
    {
      "cell_type": "code",
      "source": [
        " print(\"Hello Petroleum Engineers\")"
      ],
      "metadata": {
        "colab": {
          "base_uri": "https://localhost:8080/"
        },
        "id": "3aeh47uFTza5",
        "outputId": "7021a2c0-85e3-49e6-90ea-4dac8acc9090"
      },
      "execution_count": null,
      "outputs": [
        {
          "output_type": "stream",
          "name": "stdout",
          "text": [
            "Hello Petroleum Engineers\n"
          ]
        }
      ]
    },
    {
      "cell_type": "markdown",
      "source": [
        "use (\\n) to get in new line"
      ],
      "metadata": {
        "id": "ee29VFLxYn8m"
      }
    },
    {
      "cell_type": "code",
      "source": [
        "print('Hello Petroleum Engineers \\nHow is your day going? ')"
      ],
      "metadata": {
        "colab": {
          "base_uri": "https://localhost:8080/"
        },
        "id": "GUQUmTpmVSdw",
        "outputId": "ed75a863-2981-45c7-f381-9ae788f02194"
      },
      "execution_count": null,
      "outputs": [
        {
          "output_type": "stream",
          "name": "stdout",
          "text": [
            "Hello Petroleum Engineers \n",
            "How is your day going? \n"
          ]
        }
      ]
    },
    {
      "cell_type": "code",
      "source": [
        "print('   Hello')"
      ],
      "metadata": {
        "colab": {
          "base_uri": "https://localhost:8080/"
        },
        "id": "SvP23M_iV-6A",
        "outputId": "7ffb1165-42a4-4ede-afcd-adaaee2f685d"
      },
      "execution_count": null,
      "outputs": [
        {
          "output_type": "stream",
          "name": "stdout",
          "text": [
            "   Hello\n"
          ]
        }
      ]
    },
    {
      "cell_type": "code",
      "source": [
        "print('hello all, I hope your's day is good')"
      ],
      "metadata": {
        "colab": {
          "base_uri": "https://localhost:8080/",
          "height": 130
        },
        "id": "8jhH0WxZWFCU",
        "outputId": "7a6aceb0-a0e6-4ed6-acf8-1439e352b9b2"
      },
      "execution_count": null,
      "outputs": [
        {
          "output_type": "error",
          "ename": "SyntaxError",
          "evalue": "ignored",
          "traceback": [
            "\u001b[0;36m  File \u001b[0;32m\"<ipython-input-12-d89f6381aa57>\"\u001b[0;36m, line \u001b[0;32m1\u001b[0m\n\u001b[0;31m    print('hello all, I hope your's day is good')\u001b[0m\n\u001b[0m                                  ^\u001b[0m\n\u001b[0;31mSyntaxError\u001b[0m\u001b[0;31m:\u001b[0m invalid syntax\n"
          ]
        }
      ]
    },
    {
      "cell_type": "markdown",
      "source": [
        "use double quote when already single quote contains in statements"
      ],
      "metadata": {
        "id": "cBDcGnHXYb_3"
      }
    },
    {
      "cell_type": "code",
      "source": [
        "print(\"hello all, I hope your's day is good\")"
      ],
      "metadata": {
        "colab": {
          "base_uri": "https://localhost:8080/"
        },
        "id": "ZNVNmfGdW_L_",
        "outputId": "2d101530-c242-404d-f274-04792269e5b4"
      },
      "execution_count": null,
      "outputs": [
        {
          "output_type": "stream",
          "name": "stdout",
          "text": [
            "hello all, I hope your's day is good\n"
          ]
        }
      ]
    },
    {
      "cell_type": "markdown",
      "source": [
        "either use ( \\ ) before single quote comes in statement "
      ],
      "metadata": {
        "id": "6-bDTqISZY9-"
      }
    },
    {
      "cell_type": "code",
      "source": [
        "print ('Hello all, I hope your\\'s day is good')"
      ],
      "metadata": {
        "colab": {
          "base_uri": "https://localhost:8080/"
        },
        "id": "F5Ean-BvXgLG",
        "outputId": "4ec816c9-9f5c-48e4-b9c3-6756bbf66a3d"
      },
      "execution_count": null,
      "outputs": [
        {
          "output_type": "stream",
          "name": "stdout",
          "text": [
            "Hello all, I hope your's day is good\n"
          ]
        }
      ]
    },
    {
      "cell_type": "code",
      "source": [],
      "metadata": {
        "id": "IYezibR3aDJE"
      },
      "execution_count": null,
      "outputs": []
    }
  ]
}