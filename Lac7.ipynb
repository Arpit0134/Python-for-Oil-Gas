{
  "nbformat": 4,
  "nbformat_minor": 0,
  "metadata": {
    "colab": {
      "provenance": [],
      "collapsed_sections": [],
      "authorship_tag": "ABX9TyNsYAPmb7ahmTxEU4FTXDy6",
      "include_colab_link": true
    },
    "kernelspec": {
      "name": "python3",
      "display_name": "Python 3"
    },
    "language_info": {
      "name": "python"
    }
  },
  "cells": [
    {
      "cell_type": "markdown",
      "metadata": {
        "id": "view-in-github",
        "colab_type": "text"
      },
      "source": [
        "<a href=\"https://colab.research.google.com/github/Arpit0134/Python-for-Oil-Gas/blob/main/Lac7.ipynb\" target=\"_parent\"><img src=\"https://colab.research.google.com/assets/colab-badge.svg\" alt=\"Open In Colab\"/></a>"
      ]
    },
    {
      "cell_type": "markdown",
      "source": [
        "**Functions**\n"
      ],
      "metadata": {
        "id": "lC1rPzKkwIzZ"
      }
    },
    {
      "cell_type": "code",
      "execution_count": null,
      "metadata": {
        "id": "El7Hoou7u5Pl"
      },
      "outputs": [],
      "source": [
        "def api(sg):\n",
        "  api = 141.5/sg - 131.5\n",
        "  print(f'The api gravity is {api}')"
      ]
    },
    {
      "cell_type": "code",
      "source": [
        "api(0.8)"
      ],
      "metadata": {
        "colab": {
          "base_uri": "https://localhost:8080/"
        },
        "id": "VX2SFc4ywVAV",
        "outputId": "ffa6a646-f21d-4cae-c243-274e4850ab71"
      },
      "execution_count": null,
      "outputs": [
        {
          "output_type": "stream",
          "name": "stdout",
          "text": [
            "The api gravity is 45.375\n"
          ]
        }
      ]
    },
    {
      "cell_type": "code",
      "source": [
        "def darcy_coefficient(C=141.2):\n",
        "  q = float(input('Enter flowrate in STB/D: '))\n",
        "  mu = float(input('Enter viscosity in cP: '))\n",
        "  B = float(input('Enter FVF in rb/STB: '))\n",
        "  k = float(input('Enter Perm in mD: '))\n",
        "  h = float(input('Enter Thickness in ft: '))\n",
        "\n",
        "  coeff = C*q*mu*B/(k*h)\n",
        "  return coeff"
      ],
      "metadata": {
        "id": "orMHby_Iw81p"
      },
      "execution_count": null,
      "outputs": []
    },
    {
      "cell_type": "code",
      "source": [
        "darcy_coefficient()"
      ],
      "metadata": {
        "colab": {
          "base_uri": "https://localhost:8080/"
        },
        "id": "WOAmSxEOyuVd",
        "outputId": "c1bb8684-4513-4375-d07a-422eb56e4902"
      },
      "execution_count": null,
      "outputs": [
        {
          "name": "stdout",
          "output_type": "stream",
          "text": [
            "Enter flowrate in STB/D: 100\n",
            "Enter viscosity in cP: 1\n",
            "Enter FVF in rb/STB: 2\n",
            "Enter Perm in mD: 10\n",
            "Enter Thickness in ft: 300\n"
          ]
        },
        {
          "output_type": "execute_result",
          "data": {
            "text/plain": [
              "9.413333333333332"
            ]
          },
          "metadata": {},
          "execution_count": 7
        }
      ]
    },
    {
      "cell_type": "markdown",
      "source": [
        "**Numpy**"
      ],
      "metadata": {
        "id": "asBM3Vvl6KBB"
      }
    },
    {
      "cell_type": "code",
      "source": [
        "import numpy as np"
      ],
      "metadata": {
        "id": "H724aQYT6IOg"
      },
      "execution_count": 2,
      "outputs": []
    },
    {
      "cell_type": "code",
      "source": [
        "np.array(35464)"
      ],
      "metadata": {
        "colab": {
          "base_uri": "https://localhost:8080/"
        },
        "id": "p2hgcWnq6ioz",
        "outputId": "a50249a0-d57b-451e-8905-453b4cf8c820"
      },
      "execution_count": null,
      "outputs": [
        {
          "output_type": "execute_result",
          "data": {
            "text/plain": [
              "array(35464)"
            ]
          },
          "metadata": {},
          "execution_count": 9
        }
      ]
    },
    {
      "cell_type": "code",
      "source": [
        "porosity = [0.2,0.4,0.8,0.5]"
      ],
      "metadata": {
        "id": "-SuYdfOT6xhF"
      },
      "execution_count": null,
      "outputs": []
    },
    {
      "cell_type": "code",
      "source": [
        "porosity"
      ],
      "metadata": {
        "colab": {
          "base_uri": "https://localhost:8080/"
        },
        "id": "9kMiuDU-7ISe",
        "outputId": "e3c89a97-942a-4412-d9fa-7356d642d1a3"
      },
      "execution_count": null,
      "outputs": [
        {
          "output_type": "execute_result",
          "data": {
            "text/plain": [
              "[0.2, 0.4, 0.8, 0.5]"
            ]
          },
          "metadata": {},
          "execution_count": 11
        }
      ]
    },
    {
      "cell_type": "code",
      "source": [
        "type(porosity)"
      ],
      "metadata": {
        "colab": {
          "base_uri": "https://localhost:8080/"
        },
        "id": "krjBxi-B7JJn",
        "outputId": "0bd82d47-2878-4dff-f331-7e9a6a575fab"
      },
      "execution_count": null,
      "outputs": [
        {
          "output_type": "execute_result",
          "data": {
            "text/plain": [
              "list"
            ]
          },
          "metadata": {},
          "execution_count": 12
        }
      ]
    },
    {
      "cell_type": "code",
      "source": [
        "arr_porosity = np.array(porosity)"
      ],
      "metadata": {
        "id": "E_0KB1ml7Lmb"
      },
      "execution_count": null,
      "outputs": []
    },
    {
      "cell_type": "code",
      "source": [
        "arr_porosity"
      ],
      "metadata": {
        "colab": {
          "base_uri": "https://localhost:8080/"
        },
        "id": "Eqfb__pR7TOw",
        "outputId": "4d332d1f-e998-4869-d3a3-1d4bd164b8d3"
      },
      "execution_count": null,
      "outputs": [
        {
          "output_type": "execute_result",
          "data": {
            "text/plain": [
              "array([0.2, 0.4, 0.8, 0.5])"
            ]
          },
          "metadata": {},
          "execution_count": 14
        }
      ]
    },
    {
      "cell_type": "code",
      "source": [
        "type(arr_porosity)"
      ],
      "metadata": {
        "colab": {
          "base_uri": "https://localhost:8080/"
        },
        "id": "S31Lzotl7W7J",
        "outputId": "6f96b856-c32b-49f1-d06b-afbfdd231501"
      },
      "execution_count": null,
      "outputs": [
        {
          "output_type": "execute_result",
          "data": {
            "text/plain": [
              "numpy.ndarray"
            ]
          },
          "metadata": {},
          "execution_count": 15
        }
      ]
    },
    {
      "cell_type": "code",
      "source": [
        "tup_por = tuple(porosity)"
      ],
      "metadata": {
        "id": "oX3gP3Ac7dcN"
      },
      "execution_count": null,
      "outputs": []
    },
    {
      "cell_type": "code",
      "source": [
        "tup_por"
      ],
      "metadata": {
        "colab": {
          "base_uri": "https://localhost:8080/"
        },
        "id": "UyyG7hx57o-9",
        "outputId": "1ca17fa5-8f3c-4e08-e26d-a30c4c8d69bd"
      },
      "execution_count": null,
      "outputs": [
        {
          "output_type": "execute_result",
          "data": {
            "text/plain": [
              "(0.2, 0.4, 0.8, 0.5)"
            ]
          },
          "metadata": {},
          "execution_count": 17
        }
      ]
    },
    {
      "cell_type": "code",
      "source": [
        "np.array(tup_por)"
      ],
      "metadata": {
        "colab": {
          "base_uri": "https://localhost:8080/"
        },
        "id": "BbBxmmeG7qbi",
        "outputId": "4e102bc2-1f55-4c87-cde5-72d591fa981b"
      },
      "execution_count": null,
      "outputs": [
        {
          "output_type": "execute_result",
          "data": {
            "text/plain": [
              "array([0.2, 0.4, 0.8, 0.5])"
            ]
          },
          "metadata": {},
          "execution_count": 18
        }
      ]
    },
    {
      "cell_type": "markdown",
      "source": [
        "#Dimension\n",
        "\n",
        "0d: array having one element"
      ],
      "metadata": {
        "id": "NHTg1rhd8Cnu"
      }
    },
    {
      "cell_type": "code",
      "source": [
        "arr = np.array(45)"
      ],
      "metadata": {
        "id": "KActt4FT7viZ"
      },
      "execution_count": 3,
      "outputs": []
    },
    {
      "cell_type": "code",
      "source": [
        "arr"
      ],
      "metadata": {
        "colab": {
          "base_uri": "https://localhost:8080/"
        },
        "id": "v993toMg8P1K",
        "outputId": "7af928c3-d4f4-4f31-c344-dca987f6d15e"
      },
      "execution_count": 4,
      "outputs": [
        {
          "output_type": "execute_result",
          "data": {
            "text/plain": [
              "array(45)"
            ]
          },
          "metadata": {},
          "execution_count": 4
        }
      ]
    },
    {
      "cell_type": "code",
      "source": [
        "arr.ndim"
      ],
      "metadata": {
        "id": "Wg2gIquC8QTU",
        "colab": {
          "base_uri": "https://localhost:8080/"
        },
        "outputId": "be29ea88-fdee-4221-a137-e90ea1e86303"
      },
      "execution_count": 5,
      "outputs": [
        {
          "output_type": "execute_result",
          "data": {
            "text/plain": [
              "0"
            ]
          },
          "metadata": {},
          "execution_count": 5
        }
      ]
    },
    {
      "cell_type": "code",
      "source": [
        "arr = np.array(45,35)"
      ],
      "metadata": {
        "colab": {
          "base_uri": "https://localhost:8080/",
          "height": 165
        },
        "id": "6WnLX6fZoakU",
        "outputId": "1de1c21f-7b40-4c36-d1da-e151d3ad4d93"
      },
      "execution_count": 6,
      "outputs": [
        {
          "output_type": "error",
          "ename": "TypeError",
          "evalue": "ignored",
          "traceback": [
            "\u001b[0;31m---------------------------------------------------------------------------\u001b[0m",
            "\u001b[0;31mTypeError\u001b[0m                                 Traceback (most recent call last)",
            "\u001b[0;32m<ipython-input-6-a21584c03e3f>\u001b[0m in \u001b[0;36m<module>\u001b[0;34m\u001b[0m\n\u001b[0;32m----> 1\u001b[0;31m \u001b[0marr\u001b[0m \u001b[0;34m=\u001b[0m \u001b[0mnp\u001b[0m\u001b[0;34m.\u001b[0m\u001b[0marray\u001b[0m\u001b[0;34m(\u001b[0m\u001b[0;36m45\u001b[0m\u001b[0;34m,\u001b[0m\u001b[0;36m35\u001b[0m\u001b[0;34m)\u001b[0m\u001b[0;34m\u001b[0m\u001b[0;34m\u001b[0m\u001b[0m\n\u001b[0m",
            "\u001b[0;31mTypeError\u001b[0m: Cannot interpret '35' as a data type"
          ]
        }
      ]
    },
    {
      "cell_type": "markdown",
      "source": [
        "**1D array**"
      ],
      "metadata": {
        "id": "kshQx_7Dof44"
      }
    },
    {
      "cell_type": "code",
      "source": [
        "arr_1d = np.array([1,2,3,4,5,6,7,8])"
      ],
      "metadata": {
        "id": "mjW3BDVKoewi"
      },
      "execution_count": 8,
      "outputs": []
    },
    {
      "cell_type": "code",
      "source": [
        "arr_1d"
      ],
      "metadata": {
        "colab": {
          "base_uri": "https://localhost:8080/"
        },
        "id": "SxW1hz3npJen",
        "outputId": "c41014d1-1763-4c67-bc45-b87491f1095a"
      },
      "execution_count": 9,
      "outputs": [
        {
          "output_type": "execute_result",
          "data": {
            "text/plain": [
              "array([1, 2, 3, 4, 5, 6, 7, 8])"
            ]
          },
          "metadata": {},
          "execution_count": 9
        }
      ]
    },
    {
      "cell_type": "code",
      "source": [
        "arr_1d.ndim"
      ],
      "metadata": {
        "colab": {
          "base_uri": "https://localhost:8080/"
        },
        "id": "9MyHScajpapM",
        "outputId": "4ea83f69-1785-4218-ff25-65a3831a0b74"
      },
      "execution_count": 11,
      "outputs": [
        {
          "output_type": "execute_result",
          "data": {
            "text/plain": [
              "1"
            ]
          },
          "metadata": {},
          "execution_count": 11
        }
      ]
    },
    {
      "cell_type": "markdown",
      "source": [
        "**2d array**"
      ],
      "metadata": {
        "id": "Vki3VsqdppsR"
      }
    },
    {
      "cell_type": "code",
      "source": [
        "perm = np.array([[1,2,3],[5,8,9],[7,5,3]])"
      ],
      "metadata": {
        "id": "gSQ0cMMwpfA9"
      },
      "execution_count": 13,
      "outputs": []
    },
    {
      "cell_type": "code",
      "source": [
        "perm"
      ],
      "metadata": {
        "colab": {
          "base_uri": "https://localhost:8080/"
        },
        "id": "hIfA50i9z9MB",
        "outputId": "fecb18ed-ff0d-4159-fad9-9c00c74a4b65"
      },
      "execution_count": 14,
      "outputs": [
        {
          "output_type": "execute_result",
          "data": {
            "text/plain": [
              "array([[1, 2, 3],\n",
              "       [5, 8, 9],\n",
              "       [7, 5, 3]])"
            ]
          },
          "metadata": {},
          "execution_count": 14
        }
      ]
    },
    {
      "cell_type": "code",
      "source": [
        "perm.ndim"
      ],
      "metadata": {
        "colab": {
          "base_uri": "https://localhost:8080/"
        },
        "id": "xrFsVvbk0FRg",
        "outputId": "72a6d820-4896-4407-adbd-d28c4f3091f3"
      },
      "execution_count": 15,
      "outputs": [
        {
          "output_type": "execute_result",
          "data": {
            "text/plain": [
              "2"
            ]
          },
          "metadata": {},
          "execution_count": 15
        }
      ]
    },
    {
      "cell_type": "code",
      "source": [
        "arr_2d = np.array([[1,2,3],[4,6,5],[7,9,5,6]])"
      ],
      "metadata": {
        "colab": {
          "base_uri": "https://localhost:8080/"
        },
        "id": "XIicGG7E0J17",
        "outputId": "30ddd137-2878-4141-f724-620e4d4beabe"
      },
      "execution_count": 17,
      "outputs": [
        {
          "output_type": "stream",
          "name": "stderr",
          "text": [
            "/usr/local/lib/python3.7/dist-packages/ipykernel_launcher.py:1: VisibleDeprecationWarning: Creating an ndarray from ragged nested sequences (which is a list-or-tuple of lists-or-tuples-or ndarrays with different lengths or shapes) is deprecated. If you meant to do this, you must specify 'dtype=object' when creating the ndarray.\n",
            "  \"\"\"Entry point for launching an IPython kernel.\n"
          ]
        }
      ]
    },
    {
      "cell_type": "code",
      "source": [
        "arr_2d.ndim"
      ],
      "metadata": {
        "colab": {
          "base_uri": "https://localhost:8080/"
        },
        "id": "KIO9JvcO0p09",
        "outputId": "e94c7087-a820-4e36-9cfa-d7e3bff2308c"
      },
      "execution_count": 18,
      "outputs": [
        {
          "output_type": "execute_result",
          "data": {
            "text/plain": [
              "1"
            ]
          },
          "metadata": {},
          "execution_count": 18
        }
      ]
    },
    {
      "cell_type": "code",
      "source": [
        "arr_2d"
      ],
      "metadata": {
        "colab": {
          "base_uri": "https://localhost:8080/"
        },
        "id": "FW2sKF_d0vNx",
        "outputId": "1529eee2-51b3-4526-b569-cc92dbf4f5a8"
      },
      "execution_count": 19,
      "outputs": [
        {
          "output_type": "execute_result",
          "data": {
            "text/plain": [
              "array([list([1, 2, 3]), list([4, 6, 5]), list([7, 9, 5, 6])], dtype=object)"
            ]
          },
          "metadata": {},
          "execution_count": 19
        }
      ]
    },
    {
      "cell_type": "code",
      "source": [
        "arr_2d[1]"
      ],
      "metadata": {
        "colab": {
          "base_uri": "https://localhost:8080/"
        },
        "id": "jesHjNsA0wpB",
        "outputId": "5b39b3d0-4b44-47b9-aa06-0a4ed4e1ce5c"
      },
      "execution_count": 20,
      "outputs": [
        {
          "output_type": "execute_result",
          "data": {
            "text/plain": [
              "[4, 6, 5]"
            ]
          },
          "metadata": {},
          "execution_count": 20
        }
      ]
    },
    {
      "cell_type": "code",
      "source": [
        "a = np.array([2,3.7,'arpit'])"
      ],
      "metadata": {
        "id": "-zSY2Axe1BrX"
      },
      "execution_count": 21,
      "outputs": []
    },
    {
      "cell_type": "code",
      "source": [
        "a"
      ],
      "metadata": {
        "colab": {
          "base_uri": "https://localhost:8080/"
        },
        "id": "vgs2Zy3j1N86",
        "outputId": "be31f48c-6dcb-4d2b-cbfb-680c051fe40d"
      },
      "execution_count": 22,
      "outputs": [
        {
          "output_type": "execute_result",
          "data": {
            "text/plain": [
              "array(['2', '3.7', 'arpit'], dtype='<U32')"
            ]
          },
          "metadata": {},
          "execution_count": 22
        }
      ]
    },
    {
      "cell_type": "markdown",
      "source": [
        "**3d arrays**"
      ],
      "metadata": {
        "id": "Bcsccpq81SAZ"
      }
    },
    {
      "cell_type": "code",
      "source": [
        "arr_3d = np.array([[[1,2,3],[3,4,5]],[[4,5,6],[6,7,8]]])"
      ],
      "metadata": {
        "id": "eKfa8Ocl1Opq"
      },
      "execution_count": 23,
      "outputs": []
    },
    {
      "cell_type": "code",
      "source": [
        "arr_3d"
      ],
      "metadata": {
        "colab": {
          "base_uri": "https://localhost:8080/"
        },
        "id": "oqdQu6S12Cwi",
        "outputId": "8cc75cbc-7ed8-4dfb-af0c-ff4fc5a68e43"
      },
      "execution_count": 24,
      "outputs": [
        {
          "output_type": "execute_result",
          "data": {
            "text/plain": [
              "array([[[1, 2, 3],\n",
              "        [3, 4, 5]],\n",
              "\n",
              "       [[4, 5, 6],\n",
              "        [6, 7, 8]]])"
            ]
          },
          "metadata": {},
          "execution_count": 24
        }
      ]
    },
    {
      "cell_type": "code",
      "source": [
        "arr_3d.ndim"
      ],
      "metadata": {
        "colab": {
          "base_uri": "https://localhost:8080/"
        },
        "id": "Fzj4MVHU2ELY",
        "outputId": "0af0c72c-cee6-48b5-dc30-55f419732a82"
      },
      "execution_count": 25,
      "outputs": [
        {
          "output_type": "execute_result",
          "data": {
            "text/plain": [
              "3"
            ]
          },
          "metadata": {},
          "execution_count": 25
        }
      ]
    },
    {
      "cell_type": "code",
      "source": [
        "arr_3d[0]"
      ],
      "metadata": {
        "colab": {
          "base_uri": "https://localhost:8080/"
        },
        "id": "zOUQzjNJ2QhF",
        "outputId": "cf7be1ec-1a75-4600-e820-8806306955e2"
      },
      "execution_count": 27,
      "outputs": [
        {
          "output_type": "execute_result",
          "data": {
            "text/plain": [
              "array([[1, 2, 3],\n",
              "       [3, 4, 5]])"
            ]
          },
          "metadata": {},
          "execution_count": 27
        }
      ]
    },
    {
      "cell_type": "code",
      "source": [
        "arr_3d[0][1]"
      ],
      "metadata": {
        "colab": {
          "base_uri": "https://localhost:8080/"
        },
        "id": "4NiBZgYI2TeD",
        "outputId": "98367036-bfbc-4933-fa43-f77d96b2af0a"
      },
      "execution_count": 28,
      "outputs": [
        {
          "output_type": "execute_result",
          "data": {
            "text/plain": [
              "array([3, 4, 5])"
            ]
          },
          "metadata": {},
          "execution_count": 28
        }
      ]
    },
    {
      "cell_type": "code",
      "source": [
        "arr_3d[0][1][2]"
      ],
      "metadata": {
        "colab": {
          "base_uri": "https://localhost:8080/"
        },
        "id": "LJca0_qp2g2q",
        "outputId": "826170e2-20cc-4992-f628-fcc0b293ad5b"
      },
      "execution_count": 29,
      "outputs": [
        {
          "output_type": "execute_result",
          "data": {
            "text/plain": [
              "5"
            ]
          },
          "metadata": {},
          "execution_count": 29
        }
      ]
    },
    {
      "cell_type": "code",
      "source": [
        "arr_3d[0,1,2]"
      ],
      "metadata": {
        "colab": {
          "base_uri": "https://localhost:8080/"
        },
        "id": "F72_bdtA2rE7",
        "outputId": "7b1c1cc6-1a91-48a2-dc66-90421a3a864d"
      },
      "execution_count": 30,
      "outputs": [
        {
          "output_type": "execute_result",
          "data": {
            "text/plain": [
              "5"
            ]
          },
          "metadata": {},
          "execution_count": 30
        }
      ]
    },
    {
      "cell_type": "code",
      "source": [
        "arr_4d = np.array([[[[1,2,3,4],[3,4,5,6],[6,7,8,9]],[[34,56,78,45],[98,54,32,12],[956,67,23,67]]],[[[11,22,343,42],[33,44,55,665],[656,73,8,9]],[[34,5326,78,4325],[98,5324,3232,12],[56,67,23,67]]]])"
      ],
      "metadata": {
        "id": "oJI9T0da23Ts"
      },
      "execution_count": 31,
      "outputs": []
    },
    {
      "cell_type": "code",
      "source": [
        "arr_4d"
      ],
      "metadata": {
        "colab": {
          "base_uri": "https://localhost:8080/"
        },
        "id": "1m4nQ7Xu4UBY",
        "outputId": "3f2180c2-40fb-4b5a-e3a6-bd4a62db62e1"
      },
      "execution_count": 32,
      "outputs": [
        {
          "output_type": "execute_result",
          "data": {
            "text/plain": [
              "array([[[[   1,    2,    3,    4],\n",
              "         [   3,    4,    5,    6],\n",
              "         [   6,    7,    8,    9]],\n",
              "\n",
              "        [[  34,   56,   78,   45],\n",
              "         [  98,   54,   32,   12],\n",
              "         [ 956,   67,   23,   67]]],\n",
              "\n",
              "\n",
              "       [[[  11,   22,  343,   42],\n",
              "         [  33,   44,   55,  665],\n",
              "         [ 656,   73,    8,    9]],\n",
              "\n",
              "        [[  34, 5326,   78, 4325],\n",
              "         [  98, 5324, 3232,   12],\n",
              "         [  56,   67,   23,   67]]]])"
            ]
          },
          "metadata": {},
          "execution_count": 32
        }
      ]
    },
    {
      "cell_type": "code",
      "source": [
        "arr_4d[1,0,1,2]  #going Higher dimesnion to lower dimension"
      ],
      "metadata": {
        "colab": {
          "base_uri": "https://localhost:8080/"
        },
        "id": "y8EE_yg94Voz",
        "outputId": "788787ae-d862-4249-dfe1-364748939673"
      },
      "execution_count": 37,
      "outputs": [
        {
          "output_type": "execute_result",
          "data": {
            "text/plain": [
              "55"
            ]
          },
          "metadata": {},
          "execution_count": 37
        }
      ]
    },
    {
      "cell_type": "code",
      "source": [
        "arr = np.array([3,4,5],ndmin = 5)"
      ],
      "metadata": {
        "id": "CTZUmh_V4rXE"
      },
      "execution_count": 39,
      "outputs": []
    },
    {
      "cell_type": "code",
      "source": [
        "arr"
      ],
      "metadata": {
        "colab": {
          "base_uri": "https://localhost:8080/"
        },
        "id": "N0B90XBn6Xkc",
        "outputId": "c7d855d6-6ecc-4ad1-c758-faf172609ee9"
      },
      "execution_count": 40,
      "outputs": [
        {
          "output_type": "execute_result",
          "data": {
            "text/plain": [
              "array([[[[[3, 4, 5]]]]])"
            ]
          },
          "metadata": {},
          "execution_count": 40
        }
      ]
    },
    {
      "cell_type": "code",
      "source": [
        "arr.ndim"
      ],
      "metadata": {
        "colab": {
          "base_uri": "https://localhost:8080/"
        },
        "id": "-ryOYcCE6eoa",
        "outputId": "f2161e72-cd40-4743-fe2b-a646c20a9bf2"
      },
      "execution_count": 42,
      "outputs": [
        {
          "output_type": "execute_result",
          "data": {
            "text/plain": [
              "5"
            ]
          },
          "metadata": {},
          "execution_count": 42
        }
      ]
    },
    {
      "cell_type": "markdown",
      "source": [
        "**Shape:Checking Shape of Arrays**"
      ],
      "metadata": {
        "id": "P-Pf8q5l6m_b"
      }
    },
    {
      "cell_type": "code",
      "source": [
        "arr = np.array([1,2,3])"
      ],
      "metadata": {
        "id": "KTTNBkyP6hc7"
      },
      "execution_count": 43,
      "outputs": []
    },
    {
      "cell_type": "code",
      "source": [
        "arr"
      ],
      "metadata": {
        "colab": {
          "base_uri": "https://localhost:8080/"
        },
        "id": "_xNZw9Oq6xjw",
        "outputId": "02095e5c-ea04-4d2a-dc00-eef07f611ad2"
      },
      "execution_count": 44,
      "outputs": [
        {
          "output_type": "execute_result",
          "data": {
            "text/plain": [
              "array([1, 2, 3])"
            ]
          },
          "metadata": {},
          "execution_count": 44
        }
      ]
    },
    {
      "cell_type": "code",
      "source": [
        "arr.shape"
      ],
      "metadata": {
        "colab": {
          "base_uri": "https://localhost:8080/"
        },
        "id": "TBhIHjqy6x5I",
        "outputId": "2583981f-faf3-4051-e684-cf0bcc414d7f"
      },
      "execution_count": 45,
      "outputs": [
        {
          "output_type": "execute_result",
          "data": {
            "text/plain": [
              "(3,)"
            ]
          },
          "metadata": {},
          "execution_count": 45
        }
      ]
    },
    {
      "cell_type": "code",
      "source": [
        "arr_2d = np.array([[1,2,3],[5,8,9],[7,5,3],[3,5,3]])"
      ],
      "metadata": {
        "id": "3R-Xabeu61hF"
      },
      "execution_count": 49,
      "outputs": []
    },
    {
      "cell_type": "code",
      "source": [
        "arr_2d"
      ],
      "metadata": {
        "colab": {
          "base_uri": "https://localhost:8080/"
        },
        "id": "LID1DU4Q7ATB",
        "outputId": "2f277332-0d22-4865-8355-78ad2b32756a"
      },
      "execution_count": 50,
      "outputs": [
        {
          "output_type": "execute_result",
          "data": {
            "text/plain": [
              "array([[1, 2, 3],\n",
              "       [5, 8, 9],\n",
              "       [7, 5, 3],\n",
              "       [3, 5, 3]])"
            ]
          },
          "metadata": {},
          "execution_count": 50
        }
      ]
    },
    {
      "cell_type": "code",
      "source": [
        "arr_2d.shape"
      ],
      "metadata": {
        "colab": {
          "base_uri": "https://localhost:8080/"
        },
        "id": "FaDIRW4G7BpP",
        "outputId": "87d6c301-2899-4a8e-e347-40f0fd84c92b"
      },
      "execution_count": 51,
      "outputs": [
        {
          "output_type": "execute_result",
          "data": {
            "text/plain": [
              "(4, 3)"
            ]
          },
          "metadata": {},
          "execution_count": 51
        }
      ]
    },
    {
      "cell_type": "code",
      "source": [
        " arr_3d = np.array([[[1,2,3,4],[3,4,5,6],[6,7,8,9]],[[4,5,6,0],[6,7,8,1],[7,6,4,6]]])"
      ],
      "metadata": {
        "id": "-2WT_eeZ7EaV"
      },
      "execution_count": 54,
      "outputs": []
    },
    {
      "cell_type": "code",
      "source": [
        "arr_3d"
      ],
      "metadata": {
        "colab": {
          "base_uri": "https://localhost:8080/"
        },
        "id": "g2b3kft97e-x",
        "outputId": "70e132de-693c-448f-da9a-40528e8b5b20"
      },
      "execution_count": 55,
      "outputs": [
        {
          "output_type": "execute_result",
          "data": {
            "text/plain": [
              "array([[[1, 2, 3, 4],\n",
              "        [3, 4, 5, 6],\n",
              "        [6, 7, 8, 9]],\n",
              "\n",
              "       [[4, 5, 6, 0],\n",
              "        [6, 7, 8, 1],\n",
              "        [7, 6, 4, 6]]])"
            ]
          },
          "metadata": {},
          "execution_count": 55
        }
      ]
    },
    {
      "cell_type": "code",
      "source": [
        "arr_3d.shape"
      ],
      "metadata": {
        "colab": {
          "base_uri": "https://localhost:8080/"
        },
        "id": "HguLthlM7nPI",
        "outputId": "03098215-9cd7-43d7-93cf-efa9d43f9c3e"
      },
      "execution_count": 56,
      "outputs": [
        {
          "output_type": "execute_result",
          "data": {
            "text/plain": [
              "(2, 3, 4)"
            ]
          },
          "metadata": {},
          "execution_count": 56
        }
      ]
    },
    {
      "cell_type": "code",
      "source": [
        " arr_4d = np.array([[[[1,2,3,4],[3,4,5,6],[6,7,8,9]],[[34,56,78,45],[98,54,32,12],[956,67,23,67]]],[[[11,22,343,42],[33,44,55,665],[656,73,8,9]],[[34,5326,78,4325],[98,5324,3232,12],[56,67,23,67]]]])"
      ],
      "metadata": {
        "id": "UJjoIgaK8CzC"
      },
      "execution_count": 57,
      "outputs": []
    },
    {
      "cell_type": "code",
      "source": [
        "arr_4d"
      ],
      "metadata": {
        "colab": {
          "base_uri": "https://localhost:8080/"
        },
        "id": "3fADXw0k9AXD",
        "outputId": "4ae2b0b4-d031-4ba9-bb98-a6d615bd3132"
      },
      "execution_count": 58,
      "outputs": [
        {
          "output_type": "execute_result",
          "data": {
            "text/plain": [
              "array([[[[   1,    2,    3,    4],\n",
              "         [   3,    4,    5,    6],\n",
              "         [   6,    7,    8,    9]],\n",
              "\n",
              "        [[  34,   56,   78,   45],\n",
              "         [  98,   54,   32,   12],\n",
              "         [ 956,   67,   23,   67]]],\n",
              "\n",
              "\n",
              "       [[[  11,   22,  343,   42],\n",
              "         [  33,   44,   55,  665],\n",
              "         [ 656,   73,    8,    9]],\n",
              "\n",
              "        [[  34, 5326,   78, 4325],\n",
              "         [  98, 5324, 3232,   12],\n",
              "         [  56,   67,   23,   67]]]])"
            ]
          },
          "metadata": {},
          "execution_count": 58
        }
      ]
    },
    {
      "cell_type": "code",
      "source": [
        "arr_4d.shape"
      ],
      "metadata": {
        "colab": {
          "base_uri": "https://localhost:8080/"
        },
        "id": "XOf1tmxM9DMr",
        "outputId": "f9ddceff-ef04-451b-ba7c-632aa8c8891e"
      },
      "execution_count": 59,
      "outputs": [
        {
          "output_type": "execute_result",
          "data": {
            "text/plain": [
              "(2, 2, 3, 4)"
            ]
          },
          "metadata": {},
          "execution_count": 59
        }
      ]
    },
    {
      "cell_type": "code",
      "source": [
        "arr = np.array([3,4,5],ndmin = 5)"
      ],
      "metadata": {
        "id": "hLkV9E0T9L6B"
      },
      "execution_count": 60,
      "outputs": []
    },
    {
      "cell_type": "code",
      "source": [
        "arr"
      ],
      "metadata": {
        "colab": {
          "base_uri": "https://localhost:8080/"
        },
        "id": "HX9WMIjK9dRl",
        "outputId": "62268fc7-3036-4c44-cf0b-f25426332c29"
      },
      "execution_count": 61,
      "outputs": [
        {
          "output_type": "execute_result",
          "data": {
            "text/plain": [
              "array([[[[[3, 4, 5]]]]])"
            ]
          },
          "metadata": {},
          "execution_count": 61
        }
      ]
    },
    {
      "cell_type": "code",
      "source": [
        "arr.shape"
      ],
      "metadata": {
        "colab": {
          "base_uri": "https://localhost:8080/"
        },
        "id": "KrlfkSZa9e7d",
        "outputId": "0d83e04f-8d0c-4027-c692-bfb7de60152d"
      },
      "execution_count": 62,
      "outputs": [
        {
          "output_type": "execute_result",
          "data": {
            "text/plain": [
              "(1, 1, 1, 1, 3)"
            ]
          },
          "metadata": {},
          "execution_count": 62
        }
      ]
    },
    {
      "cell_type": "markdown",
      "source": [
        "**Generating Arrays**\n",
        "\n",
        "arange\n",
        "\n",
        "-np.arange(start,stop,step)"
      ],
      "metadata": {
        "id": "2AM3fo6L9_mU"
      }
    },
    {
      "cell_type": "code",
      "source": [
        "np.arange(0,12,2)"
      ],
      "metadata": {
        "colab": {
          "base_uri": "https://localhost:8080/"
        },
        "id": "-fNQXsLI9ls6",
        "outputId": "79abdc80-6430-4f3c-dbba-c7cd05393a90"
      },
      "execution_count": 64,
      "outputs": [
        {
          "output_type": "execute_result",
          "data": {
            "text/plain": [
              "array([ 0,  2,  4,  6,  8, 10])"
            ]
          },
          "metadata": {},
          "execution_count": 64
        }
      ]
    },
    {
      "cell_type": "code",
      "source": [
        "np.arange(0,6,1)"
      ],
      "metadata": {
        "colab": {
          "base_uri": "https://localhost:8080/"
        },
        "id": "7gq-ntEl-Zub",
        "outputId": "76e11f4e-2d75-40d9-84ac-8ce1e1db1ae9"
      },
      "execution_count": 65,
      "outputs": [
        {
          "output_type": "execute_result",
          "data": {
            "text/plain": [
              "array([0, 1, 2, 3, 4, 5])"
            ]
          },
          "metadata": {},
          "execution_count": 65
        }
      ]
    },
    {
      "cell_type": "code",
      "source": [
        "np.arange(0,5500,500)"
      ],
      "metadata": {
        "colab": {
          "base_uri": "https://localhost:8080/"
        },
        "id": "yF0BlM_a-kVj",
        "outputId": "4528d762-ef6e-4dce-b690-52a60007f9be"
      },
      "execution_count": 66,
      "outputs": [
        {
          "output_type": "execute_result",
          "data": {
            "text/plain": [
              "array([   0,  500, 1000, 1500, 2000, 2500, 3000, 3500, 4000, 4500, 5000])"
            ]
          },
          "metadata": {},
          "execution_count": 66
        }
      ]
    },
    {
      "cell_type": "code",
      "source": [
        "np.arange(0,5001,500)"
      ],
      "metadata": {
        "colab": {
          "base_uri": "https://localhost:8080/"
        },
        "id": "wYwBqWNN-sgy",
        "outputId": "db8c749f-03a6-4a38-857a-0fb2eff9303f"
      },
      "execution_count": 67,
      "outputs": [
        {
          "output_type": "execute_result",
          "data": {
            "text/plain": [
              "array([   0,  500, 1000, 1500, 2000, 2500, 3000, 3500, 4000, 4500, 5000])"
            ]
          },
          "metadata": {},
          "execution_count": 67
        }
      ]
    },
    {
      "cell_type": "markdown",
      "source": [
        "**Linspace:create linerly spaced arrays**\n",
        "\n",
        "np.linspace(start,stop,number of points)\n",
        "\n",
        "stop point is also included"
      ],
      "metadata": {
        "id": "YqvSCuGV_DTR"
      }
    },
    {
      "cell_type": "code",
      "source": [
        "np.linspace(0,1,100)"
      ],
      "metadata": {
        "colab": {
          "base_uri": "https://localhost:8080/"
        },
        "id": "wsYwCCMt-0pA",
        "outputId": "8ab8bf21-142d-4976-b6a2-cc1a5cdb7699"
      },
      "execution_count": 69,
      "outputs": [
        {
          "output_type": "execute_result",
          "data": {
            "text/plain": [
              "array([0.        , 0.01010101, 0.02020202, 0.03030303, 0.04040404,\n",
              "       0.05050505, 0.06060606, 0.07070707, 0.08080808, 0.09090909,\n",
              "       0.1010101 , 0.11111111, 0.12121212, 0.13131313, 0.14141414,\n",
              "       0.15151515, 0.16161616, 0.17171717, 0.18181818, 0.19191919,\n",
              "       0.2020202 , 0.21212121, 0.22222222, 0.23232323, 0.24242424,\n",
              "       0.25252525, 0.26262626, 0.27272727, 0.28282828, 0.29292929,\n",
              "       0.3030303 , 0.31313131, 0.32323232, 0.33333333, 0.34343434,\n",
              "       0.35353535, 0.36363636, 0.37373737, 0.38383838, 0.39393939,\n",
              "       0.4040404 , 0.41414141, 0.42424242, 0.43434343, 0.44444444,\n",
              "       0.45454545, 0.46464646, 0.47474747, 0.48484848, 0.49494949,\n",
              "       0.50505051, 0.51515152, 0.52525253, 0.53535354, 0.54545455,\n",
              "       0.55555556, 0.56565657, 0.57575758, 0.58585859, 0.5959596 ,\n",
              "       0.60606061, 0.61616162, 0.62626263, 0.63636364, 0.64646465,\n",
              "       0.65656566, 0.66666667, 0.67676768, 0.68686869, 0.6969697 ,\n",
              "       0.70707071, 0.71717172, 0.72727273, 0.73737374, 0.74747475,\n",
              "       0.75757576, 0.76767677, 0.77777778, 0.78787879, 0.7979798 ,\n",
              "       0.80808081, 0.81818182, 0.82828283, 0.83838384, 0.84848485,\n",
              "       0.85858586, 0.86868687, 0.87878788, 0.88888889, 0.8989899 ,\n",
              "       0.90909091, 0.91919192, 0.92929293, 0.93939394, 0.94949495,\n",
              "       0.95959596, 0.96969697, 0.97979798, 0.98989899, 1.        ])"
            ]
          },
          "metadata": {},
          "execution_count": 69
        }
      ]
    },
    {
      "cell_type": "markdown",
      "source": [
        "Zeroes,Ones and Indentity matrices\n",
        "\n",
        "np.zeros((shape of array))"
      ],
      "metadata": {
        "id": "S_FfX5Ae_1e6"
      }
    },
    {
      "cell_type": "code",
      "source": [
        "a = np.zeros((5,4))"
      ],
      "metadata": {
        "id": "TEDhe0hj_k4e"
      },
      "execution_count": 71,
      "outputs": []
    },
    {
      "cell_type": "code",
      "source": [
        "a"
      ],
      "metadata": {
        "colab": {
          "base_uri": "https://localhost:8080/"
        },
        "id": "WCCX2VL0AIrl",
        "outputId": "06b1dea7-f015-4e26-edda-c2e61a2e13a3"
      },
      "execution_count": 72,
      "outputs": [
        {
          "output_type": "execute_result",
          "data": {
            "text/plain": [
              "array([[0., 0., 0., 0.],\n",
              "       [0., 0., 0., 0.],\n",
              "       [0., 0., 0., 0.],\n",
              "       [0., 0., 0., 0.],\n",
              "       [0., 0., 0., 0.]])"
            ]
          },
          "metadata": {},
          "execution_count": 72
        }
      ]
    },
    {
      "cell_type": "code",
      "source": [
        "a[2,2] = 4"
      ],
      "metadata": {
        "id": "f8LTrwNHALfl"
      },
      "execution_count": 73,
      "outputs": []
    },
    {
      "cell_type": "code",
      "source": [
        "a"
      ],
      "metadata": {
        "colab": {
          "base_uri": "https://localhost:8080/"
        },
        "id": "IGXhWacqAOxA",
        "outputId": "62b0a67f-dcf0-4833-8f34-003683798797"
      },
      "execution_count": 74,
      "outputs": [
        {
          "output_type": "execute_result",
          "data": {
            "text/plain": [
              "array([[0., 0., 0., 0.],\n",
              "       [0., 0., 0., 0.],\n",
              "       [0., 0., 4., 0.],\n",
              "       [0., 0., 0., 0.],\n",
              "       [0., 0., 0., 0.]])"
            ]
          },
          "metadata": {},
          "execution_count": 74
        }
      ]
    },
    {
      "cell_type": "code",
      "source": [
        "b = np.ones((8,6))"
      ],
      "metadata": {
        "id": "yFrIgvIgAQP1"
      },
      "execution_count": 77,
      "outputs": []
    },
    {
      "cell_type": "code",
      "source": [
        "b"
      ],
      "metadata": {
        "colab": {
          "base_uri": "https://localhost:8080/"
        },
        "id": "WSqQ0wJDAVIi",
        "outputId": "b7a5e219-3215-4caa-9187-9052050102ed"
      },
      "execution_count": 78,
      "outputs": [
        {
          "output_type": "execute_result",
          "data": {
            "text/plain": [
              "array([[1., 1., 1., 1., 1., 1.],\n",
              "       [1., 1., 1., 1., 1., 1.],\n",
              "       [1., 1., 1., 1., 1., 1.],\n",
              "       [1., 1., 1., 1., 1., 1.],\n",
              "       [1., 1., 1., 1., 1., 1.],\n",
              "       [1., 1., 1., 1., 1., 1.],\n",
              "       [1., 1., 1., 1., 1., 1.],\n",
              "       [1., 1., 1., 1., 1., 1.]])"
            ]
          },
          "metadata": {},
          "execution_count": 78
        }
      ]
    },
    {
      "cell_type": "code",
      "source": [
        "c = np.ones((2,3,4))"
      ],
      "metadata": {
        "id": "9bAMvk7_AeWh"
      },
      "execution_count": 79,
      "outputs": []
    },
    {
      "cell_type": "code",
      "source": [
        "c"
      ],
      "metadata": {
        "colab": {
          "base_uri": "https://localhost:8080/"
        },
        "id": "AVuODyIyAimh",
        "outputId": "1e92b025-7f04-45f2-cc15-bb5253c6f8b0"
      },
      "execution_count": 80,
      "outputs": [
        {
          "output_type": "execute_result",
          "data": {
            "text/plain": [
              "array([[[1., 1., 1., 1.],\n",
              "        [1., 1., 1., 1.],\n",
              "        [1., 1., 1., 1.]],\n",
              "\n",
              "       [[1., 1., 1., 1.],\n",
              "        [1., 1., 1., 1.],\n",
              "        [1., 1., 1., 1.]]])"
            ]
          },
          "metadata": {},
          "execution_count": 80
        }
      ]
    },
    {
      "cell_type": "code",
      "source": [
        "b*5"
      ],
      "metadata": {
        "colab": {
          "base_uri": "https://localhost:8080/"
        },
        "id": "0dGZUUfWAjSr",
        "outputId": "4ae70177-9a1a-426f-aace-dacb1212b764"
      },
      "execution_count": 81,
      "outputs": [
        {
          "output_type": "execute_result",
          "data": {
            "text/plain": [
              "array([[5., 5., 5., 5., 5., 5.],\n",
              "       [5., 5., 5., 5., 5., 5.],\n",
              "       [5., 5., 5., 5., 5., 5.],\n",
              "       [5., 5., 5., 5., 5., 5.],\n",
              "       [5., 5., 5., 5., 5., 5.],\n",
              "       [5., 5., 5., 5., 5., 5.],\n",
              "       [5., 5., 5., 5., 5., 5.],\n",
              "       [5., 5., 5., 5., 5., 5.]])"
            ]
          },
          "metadata": {},
          "execution_count": 81
        }
      ]
    },
    {
      "cell_type": "markdown",
      "source": [
        "Identity matrices = diagonal"
      ],
      "metadata": {
        "id": "WlwdkYKMAtA3"
      }
    },
    {
      "cell_type": "code",
      "source": [
        "i = np.eye(6)"
      ],
      "metadata": {
        "id": "FnkyOdsHApQv"
      },
      "execution_count": 82,
      "outputs": []
    },
    {
      "cell_type": "code",
      "source": [
        "i"
      ],
      "metadata": {
        "colab": {
          "base_uri": "https://localhost:8080/"
        },
        "id": "k8cRNT9cA4US",
        "outputId": "54fbced7-4207-4154-fc78-9cba39c29d5d"
      },
      "execution_count": 83,
      "outputs": [
        {
          "output_type": "execute_result",
          "data": {
            "text/plain": [
              "array([[1., 0., 0., 0., 0., 0.],\n",
              "       [0., 1., 0., 0., 0., 0.],\n",
              "       [0., 0., 1., 0., 0., 0.],\n",
              "       [0., 0., 0., 1., 0., 0.],\n",
              "       [0., 0., 0., 0., 1., 0.],\n",
              "       [0., 0., 0., 0., 0., 1.]])"
            ]
          },
          "metadata": {},
          "execution_count": 83
        }
      ]
    },
    {
      "cell_type": "code",
      "source": [
        "i*64 + 36"
      ],
      "metadata": {
        "colab": {
          "base_uri": "https://localhost:8080/"
        },
        "id": "acZaizFkA5Gq",
        "outputId": "d90e3570-1fce-41bb-c1df-9798fa1c9db5"
      },
      "execution_count": 84,
      "outputs": [
        {
          "output_type": "execute_result",
          "data": {
            "text/plain": [
              "array([[100.,  36.,  36.,  36.,  36.,  36.],\n",
              "       [ 36., 100.,  36.,  36.,  36.,  36.],\n",
              "       [ 36.,  36., 100.,  36.,  36.,  36.],\n",
              "       [ 36.,  36.,  36., 100.,  36.,  36.],\n",
              "       [ 36.,  36.,  36.,  36., 100.,  36.],\n",
              "       [ 36.,  36.,  36.,  36.,  36., 100.]])"
            ]
          },
          "metadata": {},
          "execution_count": 84
        }
      ]
    },
    {
      "cell_type": "code",
      "source": [
        "x = np.eye(3,4)"
      ],
      "metadata": {
        "id": "0v7cuJKaBAii"
      },
      "execution_count": 85,
      "outputs": []
    },
    {
      "cell_type": "code",
      "source": [
        "x"
      ],
      "metadata": {
        "colab": {
          "base_uri": "https://localhost:8080/"
        },
        "id": "MUtPFmJfBGs0",
        "outputId": "e6510d4c-e5f3-4a94-cf58-dc161b300052"
      },
      "execution_count": 86,
      "outputs": [
        {
          "output_type": "execute_result",
          "data": {
            "text/plain": [
              "array([[1., 0., 0., 0.],\n",
              "       [0., 1., 0., 0.],\n",
              "       [0., 0., 1., 0.]])"
            ]
          },
          "metadata": {},
          "execution_count": 86
        }
      ]
    },
    {
      "cell_type": "code",
      "source": [],
      "metadata": {
        "id": "L_UZlNJ6BI-u"
      },
      "execution_count": null,
      "outputs": []
    }
  ]
}