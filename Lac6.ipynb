{
  "nbformat": 4,
  "nbformat_minor": 0,
  "metadata": {
    "colab": {
      "provenance": [],
      "collapsed_sections": [],
      "authorship_tag": "ABX9TyPquQXUWvedCnxRFSY4BFX8",
      "include_colab_link": true
    },
    "kernelspec": {
      "name": "python3",
      "display_name": "Python 3"
    },
    "language_info": {
      "name": "python"
    }
  },
  "cells": [
    {
      "cell_type": "markdown",
      "metadata": {
        "id": "view-in-github",
        "colab_type": "text"
      },
      "source": [
        "<a href=\"https://colab.research.google.com/github/Arpit0134/Python-for-Oil-Gas/blob/main/Lac6.ipynb\" target=\"_parent\"><img src=\"https://colab.research.google.com/assets/colab-badge.svg\" alt=\"Open In Colab\"/></a>"
      ]
    },
    {
      "cell_type": "markdown",
      "source": [
        "**If-elif-else statement**"
      ],
      "metadata": {
        "id": "xy8zVVoNV_T1"
      }
    },
    {
      "cell_type": "code",
      "execution_count": 3,
      "metadata": {
        "colab": {
          "base_uri": "https://localhost:8080/"
        },
        "id": "sYEohVL3U9bO",
        "outputId": "883cac94-9c86-4968-d386-2fca8c06049c"
      },
      "outputs": [
        {
          "name": "stdout",
          "output_type": "stream",
          "text": [
            "Enter porosity in % : 25.5\n"
          ]
        }
      ],
      "source": [
        "poro = float(input(\"Enter porosity in % : \"))"
      ]
    },
    {
      "cell_type": "code",
      "source": [
        "poro"
      ],
      "metadata": {
        "colab": {
          "base_uri": "https://localhost:8080/"
        },
        "id": "GeVSx8ZlWcyV",
        "outputId": "e7a95d03-5db5-4554-be76-d22f90c1001b"
      },
      "execution_count": 2,
      "outputs": [
        {
          "output_type": "execute_result",
          "data": {
            "text/plain": [
              "25.5"
            ]
          },
          "metadata": {},
          "execution_count": 2
        }
      ]
    },
    {
      "cell_type": "code",
      "source": [
        "poro = int(input(\"Enter porosity in % : \"))\n",
        "\n",
        "if poro >=25:\n",
        "  print('This is a Porous Sandstone')\n",
        "elif (poro<25) & (poro>=15):\n",
        "  print('This is a Tight Sandstone')  \n",
        "else:\n",
        "  print('Maybe it is a Carbonate')  \n"
      ],
      "metadata": {
        "colab": {
          "base_uri": "https://localhost:8080/"
        },
        "id": "xEmQct1lXDOD",
        "outputId": "1b48517a-3754-4f6b-e4f5-a6b272edc713"
      },
      "execution_count": 9,
      "outputs": [
        {
          "output_type": "stream",
          "name": "stdout",
          "text": [
            "Enter porosity in % : 20\n",
            "This is a Tight Sandstone\n"
          ]
        }
      ]
    },
    {
      "cell_type": "markdown",
      "source": [
        "**Functions**"
      ],
      "metadata": {
        "id": "d0VP_IhCanaH"
      }
    },
    {
      "cell_type": "code",
      "source": [
        "x = 2\n",
        "y = x**2 + 2*x + 1\n",
        "print(y)"
      ],
      "metadata": {
        "colab": {
          "base_uri": "https://localhost:8080/"
        },
        "id": "08lX1GztXlbt",
        "outputId": "310f9e94-b7da-408d-ff14-b75cbb8fc17c"
      },
      "execution_count": 10,
      "outputs": [
        {
          "output_type": "stream",
          "name": "stdout",
          "text": [
            "9\n"
          ]
        }
      ]
    },
    {
      "cell_type": "code",
      "source": [
        "def y_quad(x):\n",
        "  y = x**2 + 2*x + 1\n",
        "\n",
        "  return y"
      ],
      "metadata": {
        "id": "hZT7cqx2a7WP"
      },
      "execution_count": 11,
      "outputs": []
    },
    {
      "cell_type": "code",
      "source": [
        "y_quad(10)"
      ],
      "metadata": {
        "colab": {
          "base_uri": "https://localhost:8080/"
        },
        "id": "38DeZOQMbtsT",
        "outputId": "ea87c6c6-17e6-4c25-d97d-f93fb98986eb"
      },
      "execution_count": 12,
      "outputs": [
        {
          "output_type": "execute_result",
          "data": {
            "text/plain": [
              "121"
            ]
          },
          "metadata": {},
          "execution_count": 12
        }
      ]
    },
    {
      "cell_type": "code",
      "source": [
        "def laugher():\n",
        "  print('HAHAHA')"
      ],
      "metadata": {
        "id": "_Ad_6wXUb02F"
      },
      "execution_count": 13,
      "outputs": []
    },
    {
      "cell_type": "code",
      "source": [
        "laugher()"
      ],
      "metadata": {
        "colab": {
          "base_uri": "https://localhost:8080/"
        },
        "id": "a6ukFcKqcUEH",
        "outputId": "63676c23-d7ea-41fc-bae7-d7714630de2c"
      },
      "execution_count": 14,
      "outputs": [
        {
          "output_type": "stream",
          "name": "stdout",
          "text": [
            "HAHAHA\n"
          ]
        }
      ]
    },
    {
      "cell_type": "markdown",
      "source": [
        "Darcy Func: Multiple input single output\n",
        "\n",
        "\n",
        "q = kA delP/ mu*L"
      ],
      "metadata": {
        "id": "xNcoOotIcyX1"
      }
    },
    {
      "cell_type": "code",
      "source": [
        "def darcy_calculator(k,A,dP,mu,L):\n",
        "\n",
        "   q = k*A*dP/(mu*L)\n",
        "\n",
        "   return q"
      ],
      "metadata": {
        "id": "1CxFu8q0cV6F"
      },
      "execution_count": 15,
      "outputs": []
    },
    {
      "cell_type": "code",
      "source": [
        "darcy_calculator(0.8,200,2,10,10)"
      ],
      "metadata": {
        "colab": {
          "base_uri": "https://localhost:8080/"
        },
        "id": "5YflrCHJdceN",
        "outputId": "17397dd3-08d0-4310-d75a-cda04e0b338f"
      },
      "execution_count": 16,
      "outputs": [
        {
          "output_type": "execute_result",
          "data": {
            "text/plain": [
              "3.2"
            ]
          },
          "metadata": {},
          "execution_count": 16
        }
      ]
    },
    {
      "cell_type": "code",
      "source": [
        "def squarer(n):\n",
        "  n_squared = n**2\n",
        "\n",
        "  return n_squared"
      ],
      "metadata": {
        "id": "lNGeKmIPdtud"
      },
      "execution_count": 17,
      "outputs": []
    },
    {
      "cell_type": "code",
      "source": [
        "squarer(2)"
      ],
      "metadata": {
        "colab": {
          "base_uri": "https://localhost:8080/"
        },
        "id": "YXA5vQtChSvZ",
        "outputId": "a0fdc261-87e9-4cfc-eff9-6d6fa67ba680"
      },
      "execution_count": 18,
      "outputs": [
        {
          "output_type": "execute_result",
          "data": {
            "text/plain": [
              "4"
            ]
          },
          "metadata": {},
          "execution_count": 18
        }
      ]
    },
    {
      "cell_type": "code",
      "source": [
        "def func_1(Q_init,b,t):\n",
        "  Q = Q_init*(2.73)**(-b*t)\n",
        "\n",
        "  return Q"
      ],
      "metadata": {
        "id": "DY0kPe_uhYHT"
      },
      "execution_count": 21,
      "outputs": []
    },
    {
      "cell_type": "code",
      "source": [
        "func_1(200,3,0)"
      ],
      "metadata": {
        "colab": {
          "base_uri": "https://localhost:8080/"
        },
        "id": "w02EOwDAjJE8",
        "outputId": "fa1d0838-15ef-423e-ac39-798aa69d389e"
      },
      "execution_count": 24,
      "outputs": [
        {
          "output_type": "execute_result",
          "data": {
            "text/plain": [
              "200.0"
            ]
          },
          "metadata": {},
          "execution_count": 24
        }
      ]
    },
    {
      "cell_type": "markdown",
      "source": [
        "**Fractional Flow Example**\n",
        "\n",
        "fw = 1/(1+(uw*kro)/(uo*krw))\n",
        "\n",
        "krw = sw**3\n",
        "\n",
        "kro = (1-sw)**3"
      ],
      "metadata": {
        "id": "jNvqBnY-m6MR"
      }
    },
    {
      "cell_type": "code",
      "source": [
        "def fracflow_cal(sw = 0.5,mu_w = 10,mu_o = 100):\n",
        "  krw = sw**3\n",
        "  so = (1-sw)\n",
        "  kro = so**3\n",
        "\n",
        "  relperm = {'Sw': sw,'Krw': krw , 'Kro': kro}\n",
        "\n",
        "  fw = 1/(1+(mu_w*kro/mu_o*krw))\n",
        "\n",
        "  return relperm , fw\n",
        "\n"
      ],
      "metadata": {
        "id": "9nH9CmuDnRHd"
      },
      "execution_count": 30,
      "outputs": []
    },
    {
      "cell_type": "code",
      "source": [
        "fracflow_cal()"
      ],
      "metadata": {
        "colab": {
          "base_uri": "https://localhost:8080/"
        },
        "id": "TE0U5EmuoPvk",
        "outputId": "cb98f6c1-d8fa-4e09-bd74-3bf23ca573c3"
      },
      "execution_count": 31,
      "outputs": [
        {
          "output_type": "execute_result",
          "data": {
            "text/plain": [
              "({'Sw': 0.5, 'Krw': 0.125, 'Kro': 0.125}, 0.9984399375975039)"
            ]
          },
          "metadata": {},
          "execution_count": 31
        }
      ]
    },
    {
      "cell_type": "markdown",
      "source": [
        "**Loops/Iterations**\n",
        "\n",
        "for loop"
      ],
      "metadata": {
        "id": "oeCYE2e3p2d_"
      }
    },
    {
      "cell_type": "code",
      "source": [
        "my_number_list = list(range(10,30))\n",
        "\n",
        "print(my_number_list)"
      ],
      "metadata": {
        "colab": {
          "base_uri": "https://localhost:8080/"
        },
        "id": "9v2mt-s3oWRe",
        "outputId": "7ff3535c-5ed2-4ab8-cf96-cc7d985839c4"
      },
      "execution_count": 34,
      "outputs": [
        {
          "output_type": "stream",
          "name": "stdout",
          "text": [
            "[10, 11, 12, 13, 14, 15, 16, 17, 18, 19, 20, 21, 22, 23, 24, 25, 26, 27, 28, 29]\n"
          ]
        }
      ]
    },
    {
      "cell_type": "code",
      "source": [
        "for each_num in my_number_list:\n",
        "  print(each_num**2)"
      ],
      "metadata": {
        "colab": {
          "base_uri": "https://localhost:8080/"
        },
        "id": "2mGhV7osqKfc",
        "outputId": "0a9cbb5b-d339-47d7-b6d9-76821a451188"
      },
      "execution_count": 35,
      "outputs": [
        {
          "output_type": "stream",
          "name": "stdout",
          "text": [
            "100\n",
            "121\n",
            "144\n",
            "169\n",
            "196\n",
            "225\n",
            "256\n",
            "289\n",
            "324\n",
            "361\n",
            "400\n",
            "441\n",
            "484\n",
            "529\n",
            "576\n",
            "625\n",
            "676\n",
            "729\n",
            "784\n",
            "841\n"
          ]
        }
      ]
    },
    {
      "cell_type": "code",
      "source": [
        "for i in my_number_list:\n",
        "  print(i**3 , end=\" \")"
      ],
      "metadata": {
        "colab": {
          "base_uri": "https://localhost:8080/"
        },
        "id": "jgFe0IC_qhKv",
        "outputId": "9e88f23c-0173-4772-cd98-7866049cd3e0"
      },
      "execution_count": 40,
      "outputs": [
        {
          "output_type": "stream",
          "name": "stdout",
          "text": [
            "1000 1331 1728 2197 2744 3375 4096 4913 5832 6859 8000 9261 10648 12167 13824 15625 17576 19683 21952 24389 "
          ]
        }
      ]
    },
    {
      "cell_type": "code",
      "source": [
        "for j in my_number_list:\n",
        "  if j%2 == 0:\n",
        "    print(\"true\")\n",
        "  else:\n",
        "    print('false')  \n",
        "\n",
        "\n"
      ],
      "metadata": {
        "colab": {
          "base_uri": "https://localhost:8080/"
        },
        "id": "uVFB2QjHq7Tv",
        "outputId": "cc24256d-b82a-4bb1-8952-3968104b74f4"
      },
      "execution_count": 46,
      "outputs": [
        {
          "output_type": "stream",
          "name": "stdout",
          "text": [
            "true\n",
            "false\n",
            "true\n",
            "false\n",
            "true\n",
            "false\n",
            "true\n",
            "false\n",
            "true\n",
            "false\n",
            "true\n",
            "false\n",
            "true\n",
            "false\n",
            "true\n",
            "false\n",
            "true\n",
            "false\n",
            "true\n",
            "false\n"
          ]
        }
      ]
    },
    {
      "cell_type": "code",
      "source": [
        "import math"
      ],
      "metadata": {
        "id": "fiKoctn8tbEC"
      },
      "execution_count": 47,
      "outputs": []
    },
    {
      "cell_type": "code",
      "source": [
        " my_sin = []\n",
        " my_cos = []\n",
        "\n",
        " for v in my_number_list:\n",
        "   sin_v = math.sin(v)\n",
        "   cos_v = math.cos(v)\n",
        "\n",
        "   my_sin.append(sin_v)\n",
        "   my_cos.append(cos_v)"
      ],
      "metadata": {
        "id": "FuJYycBirjUX"
      },
      "execution_count": 50,
      "outputs": []
    },
    {
      "cell_type": "code",
      "source": [
        "len(my_number_list)"
      ],
      "metadata": {
        "colab": {
          "base_uri": "https://localhost:8080/"
        },
        "id": "BH7xXvXtrlZ7",
        "outputId": "f286996d-5828-4245-8805-96678146fd31"
      },
      "execution_count": 53,
      "outputs": [
        {
          "output_type": "execute_result",
          "data": {
            "text/plain": [
              "20"
            ]
          },
          "metadata": {},
          "execution_count": 53
        }
      ]
    },
    {
      "cell_type": "code",
      "source": [
        "len(my_sin) ; len(my_cos)"
      ],
      "metadata": {
        "colab": {
          "base_uri": "https://localhost:8080/"
        },
        "id": "fmwh_ZZFtlq7",
        "outputId": "10cc6cb2-9cfc-49f9-8e13-ea30b573de94"
      },
      "execution_count": 54,
      "outputs": [
        {
          "output_type": "execute_result",
          "data": {
            "text/plain": [
              "20"
            ]
          },
          "metadata": {},
          "execution_count": 54
        }
      ]
    },
    {
      "cell_type": "code",
      "source": [
        "print(my_sin)"
      ],
      "metadata": {
        "colab": {
          "base_uri": "https://localhost:8080/"
        },
        "id": "RNZu8jfst_qI",
        "outputId": "abf80fd6-291e-4239-bf0a-34315d7c058e"
      },
      "execution_count": 55,
      "outputs": [
        {
          "output_type": "stream",
          "name": "stdout",
          "text": [
            "[-0.5440211108893698, -0.9999902065507035, -0.5365729180004349, 0.4201670368266409, 0.9906073556948704, 0.6502878401571168, -0.2879033166650653, -0.9613974918795568, -0.750987246771676, 0.14987720966295234, 0.9129452507276277, 0.8366556385360561, -0.008851309290403876, -0.8462204041751706, -0.9055783620066239, -0.13235175009777303, 0.7625584504796027, 0.956375928404503, 0.27090578830786904, -0.6636338842129675]\n"
          ]
        }
      ]
    }
  ]
}