{
  "nbformat": 4,
  "nbformat_minor": 0,
  "metadata": {
    "colab": {
      "provenance": [],
      "collapsed_sections": [],
      "authorship_tag": "ABX9TyNishba43UeIs9WQfLKEpi9",
      "include_colab_link": true
    },
    "kernelspec": {
      "name": "python3",
      "display_name": "Python 3"
    },
    "language_info": {
      "name": "python"
    }
  },
  "cells": [
    {
      "cell_type": "markdown",
      "metadata": {
        "id": "view-in-github",
        "colab_type": "text"
      },
      "source": [
        "<a href=\"https://colab.research.google.com/github/Arpit0134/Python-for-Oil-Gas/blob/main/Lac3.ipynb\" target=\"_parent\"><img src=\"https://colab.research.google.com/assets/colab-badge.svg\" alt=\"Open In Colab\"/></a>"
      ]
    },
    {
      "cell_type": "markdown",
      "source": [
        "#**Agenda**\n",
        "\n",
        "1. Data structures\n",
        "\n",
        "*   Lists\n",
        "*   Strings(more detail)\n",
        "*   Tuples\n",
        "*   Set\n",
        "*   Dictionary\n",
        "\n",
        "2. If Else Statements - \"Flow Control\"\n",
        "\n",
        "3. Raising Exceptions - try and except\n",
        "\n",
        "\n",
        "\n"
      ],
      "metadata": {
        "id": "V1G7quqWp9qm"
      }
    },
    {
      "cell_type": "markdown",
      "source": [
        "**1. Lists : [a,b,100,200,0.5]**\n",
        "\n",
        "enclosed in a square bracket"
      ],
      "metadata": {
        "id": "uK8OHSz9rMua"
      }
    },
    {
      "cell_type": "code",
      "execution_count": null,
      "metadata": {
        "colab": {
          "base_uri": "https://localhost:8080/"
        },
        "id": "sdE2_ZdUpFGo",
        "outputId": "6a84a463-d2b8-4b72-c26e-c9ddc3905329"
      },
      "outputs": [
        {
          "output_type": "execute_result",
          "data": {
            "text/plain": [
              "[1, 2, 3]"
            ]
          },
          "metadata": {},
          "execution_count": 2
        }
      ],
      "source": [
        "#Approch1 : use the keyword list\n",
        "list([1,2,3])"
      ]
    },
    {
      "cell_type": "code",
      "source": [
        "#Approch2 : Simple [ ]\n",
        "[1,2,3]"
      ],
      "metadata": {
        "colab": {
          "base_uri": "https://localhost:8080/"
        },
        "id": "-OmgGm3Kp4Ho",
        "outputId": "14c91ada-d99c-4a1e-f111-1f95c047fe8c"
      },
      "execution_count": null,
      "outputs": [
        {
          "output_type": "execute_result",
          "data": {
            "text/plain": [
              "[1, 2, 3]"
            ]
          },
          "metadata": {},
          "execution_count": 3
        }
      ]
    },
    {
      "cell_type": "code",
      "source": [
        "[1,2,3.0,5.56,'Hey']"
      ],
      "metadata": {
        "colab": {
          "base_uri": "https://localhost:8080/"
        },
        "id": "VflsaO5RrzhW",
        "outputId": "b21e72ca-db7d-4fc3-88a3-b92b02e55a33"
      },
      "execution_count": null,
      "outputs": [
        {
          "output_type": "execute_result",
          "data": {
            "text/plain": [
              "[1, 2, 3.0, 5.56, 'Hey']"
            ]
          },
          "metadata": {},
          "execution_count": 4
        }
      ]
    },
    {
      "cell_type": "markdown",
      "source": [
        "CAUTION: lists are slow in python\n",
        "\n",
        "range(N) : creates a list of numbers from 0 to N-1 , but it is a hidden list\n",
        "\n",
        "To convert range to list : type cast it: list(range(N))"
      ],
      "metadata": {
        "id": "wXZUoMWosIL9"
      }
    },
    {
      "cell_type": "code",
      "source": [
        "print(list(range(1,36)))"
      ],
      "metadata": {
        "colab": {
          "base_uri": "https://localhost:8080/"
        },
        "id": "fqfamKCir40f",
        "outputId": "ca875618-29a4-4c6b-ca12-198a6f1b1fe4"
      },
      "execution_count": null,
      "outputs": [
        {
          "output_type": "stream",
          "name": "stdout",
          "text": [
            "[1, 2, 3, 4, 5, 6, 7, 8, 9, 10, 11, 12, 13, 14, 15, 16, 17, 18, 19, 20, 21, 22, 23, 24, 25, 26, 27, 28, 29, 30, 31, 32, 33, 34, 35]\n"
          ]
        }
      ]
    },
    {
      "cell_type": "code",
      "source": [
        "range(5) ,type(range(5)),type(list(range(5)))"
      ],
      "metadata": {
        "colab": {
          "base_uri": "https://localhost:8080/"
        },
        "id": "8CL0M9Wjs5y4",
        "outputId": "3d7a46e0-a226-41cf-f351-4b29627887e3"
      },
      "execution_count": null,
      "outputs": [
        {
          "output_type": "execute_result",
          "data": {
            "text/plain": [
              "(range(0, 5), range, list)"
            ]
          },
          "metadata": {},
          "execution_count": 16
        }
      ]
    },
    {
      "cell_type": "code",
      "source": [
        "list(range(5,12))"
      ],
      "metadata": {
        "colab": {
          "base_uri": "https://localhost:8080/"
        },
        "id": "LR8tqlXqtp7w",
        "outputId": "894f1c2c-1616-49ac-a6b1-272a883eb32c"
      },
      "execution_count": null,
      "outputs": [
        {
          "output_type": "execute_result",
          "data": {
            "text/plain": [
              "[5, 6, 7, 8, 9, 10, 11]"
            ]
          },
          "metadata": {},
          "execution_count": 17
        }
      ]
    },
    {
      "cell_type": "markdown",
      "source": [
        "Assigning a list to variable"
      ],
      "metadata": {
        "id": "mV2OiJLLscmz"
      }
    },
    {
      "cell_type": "code",
      "source": [
        "sst1_porosities = [0.23,0.22,0.25,0.29]\n",
        "sst1_perms = [100,105,170,230]"
      ],
      "metadata": {
        "id": "AI51I3jWsaTu"
      },
      "execution_count": 30,
      "outputs": []
    },
    {
      "cell_type": "markdown",
      "source": [
        "check length of list"
      ],
      "metadata": {
        "id": "GlvllWYPu7Tu"
      }
    },
    {
      "cell_type": "code",
      "source": [
        "len(sst1_porosities) , len(sst1_perms)"
      ],
      "metadata": {
        "colab": {
          "base_uri": "https://localhost:8080/"
        },
        "id": "jA65CyWouoDd",
        "outputId": "ec5369fb-bd65-49b0-cb1d-124ede904e75"
      },
      "execution_count": null,
      "outputs": [
        {
          "output_type": "execute_result",
          "data": {
            "text/plain": [
              "(4, 4)"
            ]
          },
          "metadata": {},
          "execution_count": 30
        }
      ]
    },
    {
      "cell_type": "code",
      "source": [
        "len(sst1_porosities) == len(sst1_perms)"
      ],
      "metadata": {
        "colab": {
          "base_uri": "https://localhost:8080/"
        },
        "id": "lXiHHUBQvHxc",
        "outputId": "d8e3464d-0e80-4e59-8912-2b20d798eeae"
      },
      "execution_count": null,
      "outputs": [
        {
          "output_type": "execute_result",
          "data": {
            "text/plain": [
              "True"
            ]
          },
          "metadata": {},
          "execution_count": 28
        }
      ]
    },
    {
      "cell_type": "markdown",
      "source": [
        "A list is an **ordered** arrangement of numbers\n",
        "\n",
        " - roll_no~ Index\n",
        " - in Python: Index begins at 0\n"
      ],
      "metadata": {
        "id": "LCTZAEFwwA1c"
      }
    },
    {
      "cell_type": "code",
      "source": [
        "roll_no = 1 \n",
        "\n",
        "sst1_porosities[roll_no]"
      ],
      "metadata": {
        "colab": {
          "base_uri": "https://localhost:8080/"
        },
        "id": "CnpbKoLBvto2",
        "outputId": "3d5e2b4a-bad3-4260-f0c7-ab6c7f4217ff"
      },
      "execution_count": null,
      "outputs": [
        {
          "output_type": "execute_result",
          "data": {
            "text/plain": [
              "0.22"
            ]
          },
          "metadata": {},
          "execution_count": 34
        }
      ]
    },
    {
      "cell_type": "markdown",
      "source": [
        "The rollno (Index no) for the Nth element in a list : N-1"
      ],
      "metadata": {
        "id": "ceAHezjuxLo_"
      }
    },
    {
      "cell_type": "code",
      "source": [
        "list1 = list(range(1,101))"
      ],
      "metadata": {
        "id": "1kaT7yb8xSN3"
      },
      "execution_count": null,
      "outputs": []
    },
    {
      "cell_type": "code",
      "source": [
        "position = 98\n",
        "\n",
        "index_no = position - 1\n",
        "\n",
        "print(index_no)\n",
        "list1[index_no]"
      ],
      "metadata": {
        "colab": {
          "base_uri": "https://localhost:8080/"
        },
        "id": "YSJWKRDSxgCQ",
        "outputId": "684c9df4-bdbd-4b55-9d9a-3416af64c7b3"
      },
      "execution_count": null,
      "outputs": [
        {
          "output_type": "stream",
          "name": "stdout",
          "text": [
            "97\n"
          ]
        },
        {
          "output_type": "execute_result",
          "data": {
            "text/plain": [
              "98"
            ]
          },
          "metadata": {},
          "execution_count": 44
        }
      ]
    },
    {
      "cell_type": "markdown",
      "source": [
        "- Position number 1 is index number 0\n",
        "- Position number 2 is index  number 1\n",
        "\n",
        "\n",
        "- Position number N is index number N-1"
      ],
      "metadata": {
        "id": "0yHIku5JyEWW"
      }
    },
    {
      "cell_type": "code",
      "source": [
        "list2 = list(range(101,201))"
      ],
      "metadata": {
        "id": "m1PWG0HVySOh"
      },
      "execution_count": 2,
      "outputs": []
    },
    {
      "cell_type": "code",
      "source": [
        "# What is the element at : Index Number 150\n",
        "\n",
        "position = 50 \n",
        "index_no = position - 1\n",
        "print(index_no)\n",
        "list2[index_no]"
      ],
      "metadata": {
        "colab": {
          "base_uri": "https://localhost:8080/"
        },
        "id": "CyLEZRD2ypwo",
        "outputId": "39cbcbbf-565d-446a-9352-83d65f2b894c"
      },
      "execution_count": null,
      "outputs": [
        {
          "output_type": "stream",
          "name": "stdout",
          "text": [
            "49\n"
          ]
        },
        {
          "output_type": "execute_result",
          "data": {
            "text/plain": [
              "150"
            ]
          },
          "metadata": {},
          "execution_count": 43
        }
      ]
    },
    {
      "cell_type": "markdown",
      "source": [
        "**Slicing and Indexing in a list**\n",
        " - **Accessing values from a string**\n",
        "\n",
        "mylist[start_index : stop_index : stop]"
      ],
      "metadata": {
        "id": "iv08HbcU3BXD"
      }
    },
    {
      "cell_type": "code",
      "source": [
        "print(list2)"
      ],
      "metadata": {
        "colab": {
          "base_uri": "https://localhost:8080/"
        },
        "id": "X4RTKxox2xjP",
        "outputId": "0919ee4e-1254-4f3a-c578-0e77e00ccb9b"
      },
      "execution_count": 3,
      "outputs": [
        {
          "output_type": "stream",
          "name": "stdout",
          "text": [
            "[101, 102, 103, 104, 105, 106, 107, 108, 109, 110, 111, 112, 113, 114, 115, 116, 117, 118, 119, 120, 121, 122, 123, 124, 125, 126, 127, 128, 129, 130, 131, 132, 133, 134, 135, 136, 137, 138, 139, 140, 141, 142, 143, 144, 145, 146, 147, 148, 149, 150, 151, 152, 153, 154, 155, 156, 157, 158, 159, 160, 161, 162, 163, 164, 165, 166, 167, 168, 169, 170, 171, 172, 173, 174, 175, 176, 177, 178, 179, 180, 181, 182, 183, 184, 185, 186, 187, 188, 189, 190, 191, 192, 193, 194, 195, 196, 197, 198, 199, 200]\n"
          ]
        }
      ]
    },
    {
      "cell_type": "markdown",
      "source": [
        "Q1 : Slice out elements from index range : 51 to 71"
      ],
      "metadata": {
        "id": "hXvYQNM53rIS"
      }
    },
    {
      "cell_type": "code",
      "source": [
        "st_idx = 51\n",
        "end_idx = 71\n",
        "\n",
        "print(list2[st_idx:end_idx:])"
      ],
      "metadata": {
        "colab": {
          "base_uri": "https://localhost:8080/"
        },
        "id": "XgRDsyOB3qnm",
        "outputId": "5019df7a-24d7-454d-ccf6-1a3d221f7c46"
      },
      "execution_count": 5,
      "outputs": [
        {
          "output_type": "stream",
          "name": "stdout",
          "text": [
            "[152, 153, 154, 155, 156, 157, 158, 159, 160, 161, 162, 163, 164, 165, 166, 167, 168, 169, 170, 171]\n"
          ]
        }
      ]
    },
    {
      "cell_type": "code",
      "source": [
        "print(list2[71])"
      ],
      "metadata": {
        "colab": {
          "base_uri": "https://localhost:8080/"
        },
        "id": "kDF9abi04YD2",
        "outputId": "eb844afb-0d8d-4445-e599-ddfdb69c5f6d"
      },
      "execution_count": 6,
      "outputs": [
        {
          "output_type": "stream",
          "name": "stdout",
          "text": [
            "172\n"
          ]
        }
      ]
    },
    {
      "cell_type": "code",
      "source": [
        "list3 = list(range(1,11))\n",
        "\n",
        "list3"
      ],
      "metadata": {
        "colab": {
          "base_uri": "https://localhost:8080/"
        },
        "id": "g_sxl7Cz4cN2",
        "outputId": "822f19f4-18f9-4e98-cbae-03789d00d861"
      },
      "execution_count": 7,
      "outputs": [
        {
          "output_type": "execute_result",
          "data": {
            "text/plain": [
              "[1, 2, 3, 4, 5, 6, 7, 8, 9, 10]"
            ]
          },
          "metadata": {},
          "execution_count": 7
        }
      ]
    },
    {
      "cell_type": "code",
      "source": [
        "st_idx = 2\n",
        "stop_idx = 7\n",
        "\n",
        "list3[st_idx : stop_idx+1]"
      ],
      "metadata": {
        "colab": {
          "base_uri": "https://localhost:8080/"
        },
        "id": "8c9xyf-d4hTH",
        "outputId": "276b578b-44b8-44d6-e191-4185402f5106"
      },
      "execution_count": 8,
      "outputs": [
        {
          "output_type": "execute_result",
          "data": {
            "text/plain": [
              "[3, 4, 5, 6, 7, 8]"
            ]
          },
          "metadata": {},
          "execution_count": 8
        }
      ]
    },
    {
      "cell_type": "code",
      "source": [
        "st_idx = 4\n",
        "stop_idx = 9\n",
        "\n",
        "list3[st_idx:stop_idx+1]"
      ],
      "metadata": {
        "colab": {
          "base_uri": "https://localhost:8080/"
        },
        "id": "T6VcmZbV4tks",
        "outputId": "44db272d-4c5b-4eb7-d504-38464a82253e"
      },
      "execution_count": 15,
      "outputs": [
        {
          "output_type": "execute_result",
          "data": {
            "text/plain": [
              "[5, 6, 7, 8, 9, 10]"
            ]
          },
          "metadata": {},
          "execution_count": 15
        }
      ]
    },
    {
      "cell_type": "code",
      "source": [
        "list3[0:10+1:]"
      ],
      "metadata": {
        "colab": {
          "base_uri": "https://localhost:8080/"
        },
        "id": "fXBkJxUI5UyC",
        "outputId": "4e42c91b-1fe5-4530-c1c3-e8c14fcfd310"
      },
      "execution_count": 11,
      "outputs": [
        {
          "output_type": "execute_result",
          "data": {
            "text/plain": [
              "[1, 2, 3, 4, 5, 6, 7, 8, 9, 10]"
            ]
          },
          "metadata": {},
          "execution_count": 11
        }
      ]
    },
    {
      "cell_type": "code",
      "source": [
        "list3[0:10+1:]"
      ],
      "metadata": {
        "colab": {
          "base_uri": "https://localhost:8080/"
        },
        "id": "2cZ8dekC5mBq",
        "outputId": "fd93c5c3-1166-4fd5-ed2b-e3858c9d198f"
      },
      "execution_count": 12,
      "outputs": [
        {
          "output_type": "execute_result",
          "data": {
            "text/plain": [
              "[1, 2, 3, 4, 5, 6, 7, 8, 9, 10]"
            ]
          },
          "metadata": {},
          "execution_count": 12
        }
      ]
    },
    {
      "cell_type": "code",
      "source": [
        "list3[0:10+1:2]"
      ],
      "metadata": {
        "colab": {
          "base_uri": "https://localhost:8080/"
        },
        "id": "9Spiwg-85owU",
        "outputId": "fd9e57d8-9d8e-444e-db58-b340adbcf8de"
      },
      "execution_count": 13,
      "outputs": [
        {
          "output_type": "execute_result",
          "data": {
            "text/plain": [
              "[1, 3, 5, 7, 9]"
            ]
          },
          "metadata": {},
          "execution_count": 13
        }
      ]
    },
    {
      "cell_type": "code",
      "source": [
        "list4 = list(range(1,21))"
      ],
      "metadata": {
        "id": "e6HtX-ah5rxP"
      },
      "execution_count": 16,
      "outputs": []
    },
    {
      "cell_type": "code",
      "source": [
        "list4"
      ],
      "metadata": {
        "colab": {
          "base_uri": "https://localhost:8080/"
        },
        "id": "OBOd_p4i6uue",
        "outputId": "d70ee941-0c4a-411f-cc3c-75113e718262"
      },
      "execution_count": 17,
      "outputs": [
        {
          "output_type": "execute_result",
          "data": {
            "text/plain": [
              "[1, 2, 3, 4, 5, 6, 7, 8, 9, 10, 11, 12, 13, 14, 15, 16, 17, 18, 19, 20]"
            ]
          },
          "metadata": {},
          "execution_count": 17
        }
      ]
    },
    {
      "cell_type": "code",
      "source": [
        "list4[0:21:3]"
      ],
      "metadata": {
        "colab": {
          "base_uri": "https://localhost:8080/"
        },
        "id": "OSLB3XQ46wXa",
        "outputId": "8aa5331f-611c-485a-f41f-381dd81b1653"
      },
      "execution_count": 20,
      "outputs": [
        {
          "output_type": "execute_result",
          "data": {
            "text/plain": [
              "[1, 4, 7, 10, 13, 16, 19]"
            ]
          },
          "metadata": {},
          "execution_count": 20
        }
      ]
    },
    {
      "cell_type": "markdown",
      "source": [
        "Deal with nagetive Indices\n",
        "\n",
        "-  the last element is at index no : -1"
      ],
      "metadata": {
        "id": "pvFfDxg57379"
      }
    },
    {
      "cell_type": "code",
      "source": [
        "list2[-1]"
      ],
      "metadata": {
        "colab": {
          "base_uri": "https://localhost:8080/"
        },
        "id": "EeEYw0cD69Yh",
        "outputId": "54399ccd-99dc-47f7-cbf8-710f34521c6c"
      },
      "execution_count": 21,
      "outputs": [
        {
          "output_type": "execute_result",
          "data": {
            "text/plain": [
              "200"
            ]
          },
          "metadata": {},
          "execution_count": 21
        }
      ]
    },
    {
      "cell_type": "code",
      "source": [
        "print(list2)"
      ],
      "metadata": {
        "colab": {
          "base_uri": "https://localhost:8080/"
        },
        "id": "98xc4eiz8HCG",
        "outputId": "6dde9363-faf7-437a-9160-a47d51558030"
      },
      "execution_count": 23,
      "outputs": [
        {
          "output_type": "stream",
          "name": "stdout",
          "text": [
            "[101, 102, 103, 104, 105, 106, 107, 108, 109, 110, 111, 112, 113, 114, 115, 116, 117, 118, 119, 120, 121, 122, 123, 124, 125, 126, 127, 128, 129, 130, 131, 132, 133, 134, 135, 136, 137, 138, 139, 140, 141, 142, 143, 144, 145, 146, 147, 148, 149, 150, 151, 152, 153, 154, 155, 156, 157, 158, 159, 160, 161, 162, 163, 164, 165, 166, 167, 168, 169, 170, 171, 172, 173, 174, 175, 176, 177, 178, 179, 180, 181, 182, 183, 184, 185, 186, 187, 188, 189, 190, 191, 192, 193, 194, 195, 196, 197, 198, 199, 200]\n"
          ]
        }
      ]
    },
    {
      "cell_type": "code",
      "source": [
        "print(list2[-1::-1])"
      ],
      "metadata": {
        "colab": {
          "base_uri": "https://localhost:8080/"
        },
        "id": "RN6Fd24A8Rmx",
        "outputId": "953a8b7c-f55b-4e4d-f861-f54a2f89d7b3"
      },
      "execution_count": 24,
      "outputs": [
        {
          "output_type": "stream",
          "name": "stdout",
          "text": [
            "[200, 199, 198, 197, 196, 195, 194, 193, 192, 191, 190, 189, 188, 187, 186, 185, 184, 183, 182, 181, 180, 179, 178, 177, 176, 175, 174, 173, 172, 171, 170, 169, 168, 167, 166, 165, 164, 163, 162, 161, 160, 159, 158, 157, 156, 155, 154, 153, 152, 151, 150, 149, 148, 147, 146, 145, 144, 143, 142, 141, 140, 139, 138, 137, 136, 135, 134, 133, 132, 131, 130, 129, 128, 127, 126, 125, 124, 123, 122, 121, 120, 119, 118, 117, 116, 115, 114, 113, 112, 111, 110, 109, 108, 107, 106, 105, 104, 103, 102, 101]\n"
          ]
        }
      ]
    },
    {
      "cell_type": "code",
      "source": [
        "list5 = [20,30,30,20]"
      ],
      "metadata": {
        "id": "iTEcePHw8bFz"
      },
      "execution_count": 53,
      "outputs": []
    },
    {
      "cell_type": "code",
      "source": [
        "list5[-1::-1]"
      ],
      "metadata": {
        "colab": {
          "base_uri": "https://localhost:8080/"
        },
        "id": "fwqoZV4w866E",
        "outputId": "b8fc08a6-1a03-438e-9e06-b26170dc790c"
      },
      "execution_count": 54,
      "outputs": [
        {
          "output_type": "execute_result",
          "data": {
            "text/plain": [
              "[20, 30, 30, 20]"
            ]
          },
          "metadata": {},
          "execution_count": 54
        }
      ]
    },
    {
      "cell_type": "markdown",
      "source": [
        "List Methods : To work with lists"
      ],
      "metadata": {
        "id": "UQTyzaZ39PZZ"
      }
    },
    {
      "cell_type": "code",
      "source": [
        "sst1_porosities"
      ],
      "metadata": {
        "colab": {
          "base_uri": "https://localhost:8080/"
        },
        "id": "2BagyHP_9BFK",
        "outputId": "7bf48409-c072-49c6-da9a-9aa2f747f437"
      },
      "execution_count": 31,
      "outputs": [
        {
          "output_type": "execute_result",
          "data": {
            "text/plain": [
              "[0.23, 0.22, 0.25, 0.29]"
            ]
          },
          "metadata": {},
          "execution_count": 31
        }
      ]
    },
    {
      "cell_type": "markdown",
      "source": [
        "1. Append (at the end)\n",
        "\n",
        "If have one more sample of sst1 and poro = 0.6 and perm = 135"
      ],
      "metadata": {
        "id": "8XnTncvK9g3S"
      }
    },
    {
      "cell_type": "code",
      "source": [
        "#append\n",
        "\n",
        "sst1_porosities.append(0.26)"
      ],
      "metadata": {
        "id": "FnvthR7Q9Vux"
      },
      "execution_count": 39,
      "outputs": []
    },
    {
      "cell_type": "code",
      "source": [
        "sst1_porosities\n"
      ],
      "metadata": {
        "colab": {
          "base_uri": "https://localhost:8080/"
        },
        "id": "dSdci9GQ98Jw",
        "outputId": "814921e3-dccf-443f-ed31-4a497c01632a"
      },
      "execution_count": 33,
      "outputs": [
        {
          "output_type": "execute_result",
          "data": {
            "text/plain": [
              "[0.23, 0.22, 0.25, 0.29, 0.26]"
            ]
          },
          "metadata": {},
          "execution_count": 33
        }
      ]
    },
    {
      "cell_type": "code",
      "source": [
        "sst1_perms.append(135)"
      ],
      "metadata": {
        "id": "XhCqA1lf9-jd"
      },
      "execution_count": 34,
      "outputs": []
    },
    {
      "cell_type": "code",
      "source": [
        "sst1_perms"
      ],
      "metadata": {
        "colab": {
          "base_uri": "https://localhost:8080/"
        },
        "id": "SkoeBEDM-D41",
        "outputId": "97121844-537f-43e0-d77f-2f232c6c954d"
      },
      "execution_count": 35,
      "outputs": [
        {
          "output_type": "execute_result",
          "data": {
            "text/plain": [
              "[100, 105, 170, 230, 135]"
            ]
          },
          "metadata": {},
          "execution_count": 35
        }
      ]
    },
    {
      "cell_type": "markdown",
      "source": [
        "2. pop : drop from the end"
      ],
      "metadata": {
        "id": "uwQUn84b-ZxH"
      }
    },
    {
      "cell_type": "code",
      "source": [
        "sst1_porosities"
      ],
      "metadata": {
        "colab": {
          "base_uri": "https://localhost:8080/"
        },
        "id": "aiFzWmdf-voK",
        "outputId": "0cf6c74a-9419-4137-bb96-ac2274ee13f3"
      },
      "execution_count": 40,
      "outputs": [
        {
          "output_type": "execute_result",
          "data": {
            "text/plain": [
              "[0.23, 0.22, 0.25, 0.29, 0.26]"
            ]
          },
          "metadata": {},
          "execution_count": 40
        }
      ]
    },
    {
      "cell_type": "code",
      "source": [
        "sst1_porosities.pop()"
      ],
      "metadata": {
        "colab": {
          "base_uri": "https://localhost:8080/"
        },
        "id": "nHOXzUDW-Fi8",
        "outputId": "1bf0125a-cba1-45ab-9408-8f61a9186bd3"
      },
      "execution_count": 41,
      "outputs": [
        {
          "output_type": "execute_result",
          "data": {
            "text/plain": [
              "0.26"
            ]
          },
          "metadata": {},
          "execution_count": 41
        }
      ]
    },
    {
      "cell_type": "code",
      "source": [
        "sst1_porosities"
      ],
      "metadata": {
        "colab": {
          "base_uri": "https://localhost:8080/"
        },
        "id": "mSlU-wK--juH",
        "outputId": "63a29dd4-93fa-4283-99ca-8d3893dd42b1"
      },
      "execution_count": 42,
      "outputs": [
        {
          "output_type": "execute_result",
          "data": {
            "text/plain": [
              "[0.23, 0.22, 0.25, 0.29]"
            ]
          },
          "metadata": {},
          "execution_count": 42
        }
      ]
    },
    {
      "cell_type": "code",
      "source": [
        "sst1_perms.pop()"
      ],
      "metadata": {
        "colab": {
          "base_uri": "https://localhost:8080/"
        },
        "id": "Up1uKHl--l9p",
        "outputId": "382204eb-8e36-4961-8e78-2ad8fdbe8939"
      },
      "execution_count": 43,
      "outputs": [
        {
          "output_type": "execute_result",
          "data": {
            "text/plain": [
              "135"
            ]
          },
          "metadata": {},
          "execution_count": 43
        }
      ]
    },
    {
      "cell_type": "code",
      "source": [
        "sst1_perms"
      ],
      "metadata": {
        "colab": {
          "base_uri": "https://localhost:8080/"
        },
        "id": "gpYAnKeS-7_E",
        "outputId": "8b788100-51d1-4ef3-e060-7398e16ea9fe"
      },
      "execution_count": 59,
      "outputs": [
        {
          "output_type": "execute_result",
          "data": {
            "text/plain": [
              "[100, 105, 170, 230]"
            ]
          },
          "metadata": {},
          "execution_count": 59
        }
      ]
    },
    {
      "cell_type": "code",
      "source": [
        "sst1_porosities + [0.27]"
      ],
      "metadata": {
        "colab": {
          "base_uri": "https://localhost:8080/"
        },
        "id": "3m_iWOTN-94K",
        "outputId": "a328b5fd-1ade-4e9c-efc6-729fc7492110"
      },
      "execution_count": 46,
      "outputs": [
        {
          "output_type": "execute_result",
          "data": {
            "text/plain": [
              "[0.23, 0.22, 0.25, 0.29, 0.27]"
            ]
          },
          "metadata": {},
          "execution_count": 46
        }
      ]
    },
    {
      "cell_type": "code",
      "source": [
        "sst1_porosities.remove(0.22)"
      ],
      "metadata": {
        "id": "47o3voHT_Y7q"
      },
      "execution_count": 47,
      "outputs": []
    },
    {
      "cell_type": "code",
      "source": [
        "sst1_porosities"
      ],
      "metadata": {
        "colab": {
          "base_uri": "https://localhost:8080/"
        },
        "id": "x-La1Zuo_oX9",
        "outputId": "fefc3dc0-e5be-42ce-883b-48213fee0532"
      },
      "execution_count": 48,
      "outputs": [
        {
          "output_type": "execute_result",
          "data": {
            "text/plain": [
              "[0.23, 0.25, 0.29]"
            ]
          },
          "metadata": {},
          "execution_count": 48
        }
      ]
    },
    {
      "cell_type": "code",
      "source": [
        "list6 =[1,4,2,6,3,8,5,7]"
      ],
      "metadata": {
        "id": "mtHTYtdiAJKS"
      },
      "execution_count": 55,
      "outputs": []
    },
    {
      "cell_type": "code",
      "source": [
        "list6.sort()"
      ],
      "metadata": {
        "id": "_7Jp6OO6_qkp"
      },
      "execution_count": 56,
      "outputs": []
    },
    {
      "cell_type": "code",
      "source": [
        "list6"
      ],
      "metadata": {
        "colab": {
          "base_uri": "https://localhost:8080/"
        },
        "id": "mEBsYXFo_272",
        "outputId": "b4471222-65e9-479a-fa5e-35a31b0028f0"
      },
      "execution_count": 58,
      "outputs": [
        {
          "output_type": "execute_result",
          "data": {
            "text/plain": [
              "[1, 2, 3, 4, 5, 6, 7, 8]"
            ]
          },
          "metadata": {},
          "execution_count": 58
        }
      ]
    },
    {
      "cell_type": "markdown",
      "source": [
        "- list :is MUTABLE : it is modifyable\n",
        "\n",
        "- A string is IMMUTABLE"
      ],
      "metadata": {
        "id": "aAcvCE_1A1n2"
      }
    },
    {
      "cell_type": "code",
      "source": [],
      "metadata": {
        "id": "47Ek4YNM_4_0"
      },
      "execution_count": null,
      "outputs": []
    }
  ]
}