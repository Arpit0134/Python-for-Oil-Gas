{
  "nbformat": 4,
  "nbformat_minor": 0,
  "metadata": {
    "colab": {
      "provenance": [],
      "collapsed_sections": [],
      "authorship_tag": "ABX9TyODb/LatqUa+ZKrly4vdJyV",
      "include_colab_link": true
    },
    "kernelspec": {
      "name": "python3",
      "display_name": "Python 3"
    },
    "language_info": {
      "name": "python"
    }
  },
  "cells": [
    {
      "cell_type": "markdown",
      "metadata": {
        "id": "view-in-github",
        "colab_type": "text"
      },
      "source": [
        "<a href=\"https://colab.research.google.com/github/Arpit0134/Python-for-Oil-Gas/blob/main/Lac4.ipynb\" target=\"_parent\"><img src=\"https://colab.research.google.com/assets/colab-badge.svg\" alt=\"Open In Colab\"/></a>"
      ]
    },
    {
      "cell_type": "markdown",
      "source": [
        "**Mutability**\n",
        "\n",
        "list is MUTABLE/MODIFYABLE"
      ],
      "metadata": {
        "id": "Yr1ZkbVJon_D"
      }
    },
    {
      "cell_type": "code",
      "execution_count": null,
      "metadata": {
        "id": "3Pzfiac3nI1d"
      },
      "outputs": [],
      "source": [
        "rock_details = [27,220,'LST','F123','JC']"
      ]
    },
    {
      "cell_type": "code",
      "source": [
        "rock_details[2]"
      ],
      "metadata": {
        "colab": {
          "base_uri": "https://localhost:8080/",
          "height": 35
        },
        "id": "6cIoOGR8o0ux",
        "outputId": "d02c898e-5b6f-4740-c26d-94af041bcc4c"
      },
      "execution_count": null,
      "outputs": [
        {
          "output_type": "execute_result",
          "data": {
            "text/plain": [
              "'LST'"
            ],
            "application/vnd.google.colaboratory.intrinsic+json": {
              "type": "string"
            }
          },
          "metadata": {},
          "execution_count": 3
        }
      ]
    },
    {
      "cell_type": "code",
      "source": [
        "rock_details[2] = 'SST'"
      ],
      "metadata": {
        "id": "M2ArwSc0o6R5"
      },
      "execution_count": null,
      "outputs": []
    },
    {
      "cell_type": "code",
      "source": [
        "rock_details"
      ],
      "metadata": {
        "colab": {
          "base_uri": "https://localhost:8080/"
        },
        "id": "1rWCI3G0pLSG",
        "outputId": "cd1e8bbf-084e-408c-c9c2-7db17b083f7c"
      },
      "execution_count": null,
      "outputs": [
        {
          "output_type": "execute_result",
          "data": {
            "text/plain": [
              "[27, 220, 'SST', 'F123', 'JC']"
            ]
          },
          "metadata": {},
          "execution_count": 5
        }
      ]
    },
    {
      "cell_type": "markdown",
      "source": [
        "###String : A list of charachters enclosed within '  ' or \"  \"\n",
        "\n",
        "Difference bw a string and a list:\n",
        "1. the way both are created : \"ab\" vs [a,b]\n",
        "2. Mutability of lists bs immutability of strings.\n",
        "\n",
        "Common bw both :\n",
        "1. indexing\n",
        "2. slicing"
      ],
      "metadata": {
        "id": "S2oLOsbdp8-A"
      }
    },
    {
      "cell_type": "code",
      "source": [
        "rock_name_str = \"Sandstone\"\n",
        "\n",
        "rock_name_lst = ['S','a','n','d','s','t','o','n','e']"
      ],
      "metadata": {
        "id": "KulkTzy0pNfm"
      },
      "execution_count": null,
      "outputs": []
    },
    {
      "cell_type": "markdown",
      "source": [
        "**Immutability of strings**"
      ],
      "metadata": {
        "id": "QTxckKqsrkV4"
      }
    },
    {
      "cell_type": "code",
      "source": [
        "rock_name_lst.append('s')"
      ],
      "metadata": {
        "id": "5VhmSnB5qpBO"
      },
      "execution_count": null,
      "outputs": []
    },
    {
      "cell_type": "code",
      "source": [
        "rock_name_lst[-1] = 'x'"
      ],
      "metadata": {
        "id": "hpkeYaBxr4Su"
      },
      "execution_count": null,
      "outputs": []
    },
    {
      "cell_type": "code",
      "source": [
        "rock_name_str[-1] = 'x'"
      ],
      "metadata": {
        "colab": {
          "base_uri": "https://localhost:8080/",
          "height": 165
        },
        "id": "6Ytl1hzfsAKF",
        "outputId": "2300ba59-a7a9-41cd-fc28-7c97c17e1bc9"
      },
      "execution_count": null,
      "outputs": [
        {
          "output_type": "error",
          "ename": "TypeError",
          "evalue": "ignored",
          "traceback": [
            "\u001b[0;31m---------------------------------------------------------------------------\u001b[0m",
            "\u001b[0;31mTypeError\u001b[0m                                 Traceback (most recent call last)",
            "\u001b[0;32m<ipython-input-11-093d078c08aa>\u001b[0m in \u001b[0;36m<module>\u001b[0;34m\u001b[0m\n\u001b[0;32m----> 1\u001b[0;31m \u001b[0mrock_name_str\u001b[0m\u001b[0;34m[\u001b[0m\u001b[0;34m-\u001b[0m\u001b[0;36m1\u001b[0m\u001b[0;34m]\u001b[0m \u001b[0;34m=\u001b[0m \u001b[0;34m'x'\u001b[0m\u001b[0;34m\u001b[0m\u001b[0;34m\u001b[0m\u001b[0m\n\u001b[0m",
            "\u001b[0;31mTypeError\u001b[0m: 'str' object does not support item assignment"
          ]
        }
      ]
    },
    {
      "cell_type": "code",
      "source": [
        "rock_name_str.append('A')"
      ],
      "metadata": {
        "colab": {
          "base_uri": "https://localhost:8080/",
          "height": 165
        },
        "id": "2qLuon_SsFHR",
        "outputId": "7155ef8f-1c84-486d-989f-78e4e424691d"
      },
      "execution_count": null,
      "outputs": [
        {
          "output_type": "error",
          "ename": "AttributeError",
          "evalue": "ignored",
          "traceback": [
            "\u001b[0;31m---------------------------------------------------------------------------\u001b[0m",
            "\u001b[0;31mAttributeError\u001b[0m                            Traceback (most recent call last)",
            "\u001b[0;32m<ipython-input-12-e100bbadcc58>\u001b[0m in \u001b[0;36m<module>\u001b[0;34m\u001b[0m\n\u001b[0;32m----> 1\u001b[0;31m \u001b[0mrock_name_str\u001b[0m\u001b[0;34m.\u001b[0m\u001b[0mappend\u001b[0m\u001b[0;34m(\u001b[0m\u001b[0;34m'A'\u001b[0m\u001b[0;34m)\u001b[0m\u001b[0;34m\u001b[0m\u001b[0;34m\u001b[0m\u001b[0m\n\u001b[0m",
            "\u001b[0;31mAttributeError\u001b[0m: 'str' object has no attribute 'append'"
          ]
        }
      ]
    },
    {
      "cell_type": "markdown",
      "source": [
        "Slicing and indexing in a STRING"
      ],
      "metadata": {
        "id": "861v8hdzsdox"
      }
    },
    {
      "cell_type": "code",
      "source": [
        "rock_name = 'Sandstone'"
      ],
      "metadata": {
        "id": "mc0sjpMSsT-y"
      },
      "execution_count": null,
      "outputs": []
    },
    {
      "cell_type": "code",
      "source": [
        "rock_name"
      ],
      "metadata": {
        "colab": {
          "base_uri": "https://localhost:8080/",
          "height": 35
        },
        "id": "SYJBAFQys2ri",
        "outputId": "14b58de6-6a73-4529-d0c1-a96906fe1f60"
      },
      "execution_count": null,
      "outputs": [
        {
          "output_type": "execute_result",
          "data": {
            "text/plain": [
              "'Sandstone'"
            ],
            "application/vnd.google.colaboratory.intrinsic+json": {
              "type": "string"
            }
          },
          "metadata": {},
          "execution_count": 15
        }
      ]
    },
    {
      "cell_type": "code",
      "source": [
        "rock_name[1:4]"
      ],
      "metadata": {
        "colab": {
          "base_uri": "https://localhost:8080/",
          "height": 35
        },
        "id": "xzrZmQo-s4TM",
        "outputId": "6eb59026-a19c-4434-ba1f-460fd66b603a"
      },
      "execution_count": null,
      "outputs": [
        {
          "output_type": "execute_result",
          "data": {
            "text/plain": [
              "'and'"
            ],
            "application/vnd.google.colaboratory.intrinsic+json": {
              "type": "string"
            }
          },
          "metadata": {},
          "execution_count": 18
        }
      ]
    },
    {
      "cell_type": "code",
      "source": [
        "rock_name[0::2]"
      ],
      "metadata": {
        "colab": {
          "base_uri": "https://localhost:8080/",
          "height": 35
        },
        "id": "eBB2J3KBtBWx",
        "outputId": "b48f8fcc-e2f8-47b6-e132-222b006050db"
      },
      "execution_count": null,
      "outputs": [
        {
          "output_type": "execute_result",
          "data": {
            "text/plain": [
              "'Snsoe'"
            ],
            "application/vnd.google.colaboratory.intrinsic+json": {
              "type": "string"
            }
          },
          "metadata": {},
          "execution_count": 19
        }
      ]
    },
    {
      "cell_type": "markdown",
      "source": [
        "Reverse the string"
      ],
      "metadata": {
        "id": "v8r1XmfSuNvB"
      }
    },
    {
      "cell_type": "code",
      "source": [
        "rock_name[::-1]"
      ],
      "metadata": {
        "colab": {
          "base_uri": "https://localhost:8080/",
          "height": 35
        },
        "id": "5QFGXT6DtUk8",
        "outputId": "618c0067-00fd-4164-984b-8cddeb96c604"
      },
      "execution_count": null,
      "outputs": [
        {
          "output_type": "execute_result",
          "data": {
            "text/plain": [
              "'enotsdnaS'"
            ],
            "application/vnd.google.colaboratory.intrinsic+json": {
              "type": "string"
            }
          },
          "metadata": {},
          "execution_count": 25
        }
      ]
    },
    {
      "cell_type": "code",
      "source": [
        "rock_name[-1::-1]"
      ],
      "metadata": {
        "colab": {
          "base_uri": "https://localhost:8080/",
          "height": 35
        },
        "id": "0h-xqrg6uWDb",
        "outputId": "8135fbd9-1393-4f37-8e44-9f3674331635"
      },
      "execution_count": null,
      "outputs": [
        {
          "output_type": "execute_result",
          "data": {
            "text/plain": [
              "'enotsdnaS'"
            ],
            "application/vnd.google.colaboratory.intrinsic+json": {
              "type": "string"
            }
          },
          "metadata": {},
          "execution_count": 26
        }
      ]
    },
    {
      "cell_type": "markdown",
      "source": [
        "Pallindrome check\n"
      ],
      "metadata": {
        "id": "eWrqallZZhLQ"
      }
    },
    {
      "cell_type": "code",
      "source": [
        "name = 'NAMAN'"
      ],
      "metadata": {
        "id": "ubegGiUDu1QS"
      },
      "execution_count": 1,
      "outputs": []
    },
    {
      "cell_type": "code",
      "source": [
        " name_1 = name[::-1]"
      ],
      "metadata": {
        "id": "xkOzUhp6Zps6"
      },
      "execution_count": 2,
      "outputs": []
    },
    {
      "cell_type": "code",
      "source": [
        "name == name_1"
      ],
      "metadata": {
        "colab": {
          "base_uri": "https://localhost:8080/"
        },
        "id": "8Z_kzrRtZ3Ok",
        "outputId": "7d2e39d9-78cc-4d5a-f557-3f8ac813c760"
      },
      "execution_count": 3,
      "outputs": [
        {
          "output_type": "execute_result",
          "data": {
            "text/plain": [
              "True"
            ]
          },
          "metadata": {},
          "execution_count": 3
        }
      ]
    },
    {
      "cell_type": "markdown",
      "source": [
        "Other ways to create a string"
      ],
      "metadata": {
        "id": "PjYI7Yuja5aH"
      }
    },
    {
      "cell_type": "code",
      "source": [
        " fullname = 'Arpit'+ ' ' + 'Patel'\n",
        "\n",
        " fullname"
      ],
      "metadata": {
        "colab": {
          "base_uri": "https://localhost:8080/",
          "height": 35
        },
        "id": "r6TFyJeLZ6tk",
        "outputId": "2187ecde-3e9a-43ca-d739-6224075fa3bc"
      },
      "execution_count": 6,
      "outputs": [
        {
          "output_type": "execute_result",
          "data": {
            "text/plain": [
              "'Arpit Patel'"
            ],
            "application/vnd.google.colaboratory.intrinsic+json": {
              "type": "string"
            }
          },
          "metadata": {},
          "execution_count": 6
        }
      ]
    },
    {
      "cell_type": "code",
      "source": [
        "firstname = 'Arpit'\n",
        "secname = 'Patel'\n",
        "seperator = ' '\n",
        "\n",
        "fullname = firstname + seperator + secname\n",
        "\n",
        "print(fullname)"
      ],
      "metadata": {
        "colab": {
          "base_uri": "https://localhost:8080/"
        },
        "id": "lTdQ7YRwcVlp",
        "outputId": "a5571b4c-709e-49b6-a26b-23180bce2200"
      },
      "execution_count": 9,
      "outputs": [
        {
          "output_type": "stream",
          "name": "stdout",
          "text": [
            "Arpit Patel\n"
          ]
        }
      ]
    },
    {
      "cell_type": "code",
      "source": [
        "rock_name = 'SST'\n",
        "poro = 25\n",
        "perm = 175\n",
        "\n",
        "properties = f'rock type is {rock_name} \\nporosity of rock is {poro} \\npermeability of rock is {perm}'\n",
        "\n",
        "print(properties)\n",
        "\n",
        "#rock_status\n",
        "#f'string"
      ],
      "metadata": {
        "colab": {
          "base_uri": "https://localhost:8080/"
        },
        "id": "049Mh6zwcx_w",
        "outputId": "562549a0-a125-4d33-82e4-e8c0b94d7e17"
      },
      "execution_count": 16,
      "outputs": [
        {
          "output_type": "stream",
          "name": "stdout",
          "text": [
            "rock type is SST \n",
            "porosity of rock is 25 \n",
            "permeability of rock is 175\n"
          ]
        }
      ]
    },
    {
      "cell_type": "markdown",
      "source": [
        "f - strings - formatted strings"
      ],
      "metadata": {
        "id": "oVrqHELsd1gS"
      }
    },
    {
      "cell_type": "code",
      "source": [
        " x = 3\n",
        "\n",
        " 'The value of x is x '"
      ],
      "metadata": {
        "colab": {
          "base_uri": "https://localhost:8080/",
          "height": 35
        },
        "id": "8pcGUzwndA3V",
        "outputId": "78085145-ce6b-4e44-b85b-d952a5035006"
      },
      "execution_count": 12,
      "outputs": [
        {
          "output_type": "execute_result",
          "data": {
            "text/plain": [
              "'The value of x is x '"
            ],
            "application/vnd.google.colaboratory.intrinsic+json": {
              "type": "string"
            }
          },
          "metadata": {},
          "execution_count": 12
        }
      ]
    },
    {
      "cell_type": "code",
      "source": [
        "f'The value of x is {x}'"
      ],
      "metadata": {
        "colab": {
          "base_uri": "https://localhost:8080/",
          "height": 35
        },
        "id": "y7tiAoXYdljY",
        "outputId": "506ef958-a1ce-4d32-d78a-a32df0d5a647"
      },
      "execution_count": 13,
      "outputs": [
        {
          "output_type": "execute_result",
          "data": {
            "text/plain": [
              "'The value of x is 3'"
            ],
            "application/vnd.google.colaboratory.intrinsic+json": {
              "type": "string"
            }
          },
          "metadata": {},
          "execution_count": 13
        }
      ]
    },
    {
      "cell_type": "markdown",
      "source": [
        "example of f string"
      ],
      "metadata": {
        "id": "OFTgId4Uhccx"
      }
    },
    {
      "cell_type": "code",
      "source": [
        "my_poros = [25,71]\n",
        "my_perms = [120,175]\n",
        "liths = ['SSTA' , 'SSTB']\n",
        "\n",
        "idx = 0"
      ],
      "metadata": {
        "id": "ZrGTJJ8QdrF9"
      },
      "execution_count": 24,
      "outputs": []
    },
    {
      "cell_type": "code",
      "source": [
        "litho_property = f'Hey! my porosities list is : {my_poros}. \\nmy perms list is{my_perms}'\n",
        "\n",
        "print(litho_property)"
      ],
      "metadata": {
        "colab": {
          "base_uri": "https://localhost:8080/"
        },
        "id": "8L-XdC_QhjFS",
        "outputId": "756c8828-aefc-4961-c4e1-e5d7f36fd806"
      },
      "execution_count": 19,
      "outputs": [
        {
          "output_type": "stream",
          "name": "stdout",
          "text": [
            "Hey! my porosities list is : [25, 71]. \n",
            "my perms list is[120, 175]\n"
          ]
        }
      ]
    },
    {
      "cell_type": "code",
      "source": [
        "\n",
        "litho_prop1 = f'The porosity of {liths[idx]} is {my_poros[idx]} and the  perm of {liths[idx]} is {my_perms[idx]}'\n",
        "\n",
        "print(litho_prop1)"
      ],
      "metadata": {
        "colab": {
          "base_uri": "https://localhost:8080/"
        },
        "id": "34yCOvASiOo7",
        "outputId": "81583de8-0671-4c84-f7fc-709d9b85a78e"
      },
      "execution_count": 25,
      "outputs": [
        {
          "output_type": "stream",
          "name": "stdout",
          "text": [
            "The porosity of SSTA is 25 and the  perm of SSTA is 120\n"
          ]
        }
      ]
    },
    {
      "cell_type": "markdown",
      "source": [
        "Other fucntions of strings"
      ],
      "metadata": {
        "id": "UkhjBcgWlch2"
      }
    },
    {
      "cell_type": "code",
      "source": [
        "my_field_name = \"cambey\""
      ],
      "metadata": {
        "id": "8anIEpCiizIz"
      },
      "execution_count": 26,
      "outputs": []
    },
    {
      "cell_type": "code",
      "source": [
        "my_field_name.capitalize()"
      ],
      "metadata": {
        "colab": {
          "base_uri": "https://localhost:8080/",
          "height": 35
        },
        "id": "y-99IczWljy9",
        "outputId": "09599612-eb60-403f-e50a-631678fe3974"
      },
      "execution_count": 27,
      "outputs": [
        {
          "output_type": "execute_result",
          "data": {
            "text/plain": [
              "'Cambey'"
            ],
            "application/vnd.google.colaboratory.intrinsic+json": {
              "type": "string"
            }
          },
          "metadata": {},
          "execution_count": 27
        }
      ]
    },
    {
      "cell_type": "code",
      "source": [
        "my_field_name.endswith('x')\n"
      ],
      "metadata": {
        "colab": {
          "base_uri": "https://localhost:8080/"
        },
        "id": "C6cKWQqflo9H",
        "outputId": "ee194c1d-bbf1-42d7-c789-6776f6977073"
      },
      "execution_count": 28,
      "outputs": [
        {
          "output_type": "execute_result",
          "data": {
            "text/plain": [
              "False"
            ]
          },
          "metadata": {},
          "execution_count": 28
        }
      ]
    },
    {
      "cell_type": "code",
      "source": [
        "len(my_field_name)"
      ],
      "metadata": {
        "colab": {
          "base_uri": "https://localhost:8080/"
        },
        "id": "6nuymM0Ulyck",
        "outputId": "1bc14141-e074-4dec-833e-8e85ed833156"
      },
      "execution_count": 29,
      "outputs": [
        {
          "output_type": "execute_result",
          "data": {
            "text/plain": [
              "6"
            ]
          },
          "metadata": {},
          "execution_count": 29
        }
      ]
    },
    {
      "cell_type": "code",
      "source": [
        "my_field_name.isalnum()"
      ],
      "metadata": {
        "colab": {
          "base_uri": "https://localhost:8080/"
        },
        "id": "QifxhgiYl12D",
        "outputId": "e973565b-c61b-4b08-cb84-ea62f0245ae4"
      },
      "execution_count": 30,
      "outputs": [
        {
          "output_type": "execute_result",
          "data": {
            "text/plain": [
              "True"
            ]
          },
          "metadata": {},
          "execution_count": 30
        }
      ]
    },
    {
      "cell_type": "code",
      "source": [
        "my_field_name.find('a')"
      ],
      "metadata": {
        "colab": {
          "base_uri": "https://localhost:8080/"
        },
        "id": "p-jysDXil93v",
        "outputId": "e9362ab6-546c-48ca-a0da-45dae4e06338"
      },
      "execution_count": 31,
      "outputs": [
        {
          "output_type": "execute_result",
          "data": {
            "text/plain": [
              "1"
            ]
          },
          "metadata": {},
          "execution_count": 31
        }
      ]
    },
    {
      "cell_type": "code",
      "source": [
        "my_rocky_list = 'SSTA SSTB LSTA LSTB'"
      ],
      "metadata": {
        "id": "rZFw8zXBmD_U"
      },
      "execution_count": 32,
      "outputs": []
    },
    {
      "cell_type": "code",
      "source": [
        "my_rocky_list.split(' ')"
      ],
      "metadata": {
        "colab": {
          "base_uri": "https://localhost:8080/"
        },
        "id": "tIS1qOnomMJA",
        "outputId": "1d359ffa-bb87-4ec7-ac94-318fbef6100a"
      },
      "execution_count": 34,
      "outputs": [
        {
          "output_type": "execute_result",
          "data": {
            "text/plain": [
              "['SSTA', 'SSTB', 'LSTA', 'LSTB']"
            ]
          },
          "metadata": {},
          "execution_count": 34
        }
      ]
    },
    {
      "cell_type": "code",
      "source": [
        "myFullname = 'Arpit R. Patel'"
      ],
      "metadata": {
        "id": "KxoG6VJUmZt7"
      },
      "execution_count": 35,
      "outputs": []
    },
    {
      "cell_type": "code",
      "source": [
        "my_name_components = myFullname.split(\" \")\n",
        "\n",
        "myFname = my_name_components[0]\n",
        "myMname = my_name_components[1]\n",
        "myLname = my_name_components[2]\n",
        "\n",
        "myLname\n"
      ],
      "metadata": {
        "colab": {
          "base_uri": "https://localhost:8080/",
          "height": 35
        },
        "id": "QotQdJe1m1cO",
        "outputId": "300a796a-e6b3-499e-b537-7d094331f270"
      },
      "execution_count": 36,
      "outputs": [
        {
          "output_type": "execute_result",
          "data": {
            "text/plain": [
              "'Patel'"
            ],
            "application/vnd.google.colaboratory.intrinsic+json": {
              "type": "string"
            }
          },
          "metadata": {},
          "execution_count": 36
        }
      ]
    },
    {
      "cell_type": "markdown",
      "source": [
        "NLP : Natural Language Processing : Text Processing"
      ],
      "metadata": {
        "id": "QVMbZAFgnTe4"
      }
    },
    {
      "cell_type": "code",
      "source": [
        "rock_status = 'MyRockPoro_25_MyRockPerm_175_MyRockLith_SST'"
      ],
      "metadata": {
        "id": "Y-Jbe6aDnRmX"
      },
      "execution_count": 37,
      "outputs": []
    },
    {
      "cell_type": "code",
      "source": [
        "rock_propos = rock_status.split('_')\n",
        "\n",
        "print(rock_propos)\n"
      ],
      "metadata": {
        "colab": {
          "base_uri": "https://localhost:8080/"
        },
        "id": "67HkWluvoBY4",
        "outputId": "9382d079-ca4b-4034-86c2-4e36a7d80d6b"
      },
      "execution_count": 40,
      "outputs": [
        {
          "output_type": "stream",
          "name": "stdout",
          "text": [
            "['MyRockPoro', '25', 'MyRockPerm', '175', 'MyRockLith', 'SST']\n"
          ]
        }
      ]
    },
    {
      "cell_type": "code",
      "source": [
        "print(int(rock_status.split('_')[1]))\n",
        "\n",
        "print((rock_status.split('_')[3]))"
      ],
      "metadata": {
        "colab": {
          "base_uri": "https://localhost:8080/"
        },
        "id": "siWiQPpHoQXZ",
        "outputId": "19844fa9-a046-49a4-f85f-5ef7a8d66975"
      },
      "execution_count": 44,
      "outputs": [
        {
          "output_type": "stream",
          "name": "stdout",
          "text": [
            "25\n",
            "175\n"
          ]
        }
      ]
    }
  ]
}